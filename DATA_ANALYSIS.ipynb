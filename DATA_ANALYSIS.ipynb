{
 "cells": [
  {
   "cell_type": "markdown",
   "id": "f21e7edb-80d6-4cd8-b8c9-6749a13fdb94",
   "metadata": {},
   "source": [
    "# **Resolução do case - Analista de Dados**"
   ]
  },
  {
   "cell_type": "markdown",
   "id": "f84e5422-f737-4678-a555-538c745a0714",
   "metadata": {},
   "source": [
    "### Este documento traz uma análise exploratório de caráter descritivo dos dados inerentes ao uso da ferramenta 'listas nominais', sendo esta a principal ferramenta do impulso previne. \n",
    "### O impulso previne é uma solução digital para a gestão dos dados de atenação primária em saúde (APS) , a qual centraliza em uma plataforma dados, análises e recomendações sobre o programa de financiamento federal da Atenção Primária. \n"
   ]
  },
  {
   "cell_type": "markdown",
   "id": "7cf2098b-83ed-4e18-8148-89e30b2817f4",
   "metadata": {},
   "source": [
    "## **O presente documento está dividido em três blocos** : \n",
    "\n",
    " * Data Wrangling :  Tratamento dos dados \n",
    " * Analytics: Análise descritiva dos dados \n",
    " * Visualization: Visuzalização dos dados em gráficos.\n",
    "\n",
    "## **Utilizamos a linguagem de programação python com auxílio de bibliotecas para análises de dados, sendo estas**:  \n",
    "\n",
    "* Pandas: https://pandas.pydata.org/docs/\n",
    "* Numpy: https://numpy.org/doc/\n",
    "* Matplotlib: https://matplotlib.org/stable/index.html\n",
    "* Seaborn: https://seaborn.pydata.org/\n",
    "* scikit-learn: https://scikit-learn.org/stable/index.html\n",
    "* scipy: https://docs.scipy.org/doc/scipy/"
   ]
  },
  {
   "cell_type": "markdown",
   "id": "b34690b7-979b-426e-8147-957a1faad291",
   "metadata": {},
   "source": [
    "### Importação das bibliotecas necessárias para a análise"
   ]
  },
  {
   "cell_type": "code",
   "execution_count": 145,
   "id": "40a08e49-087e-4c68-aa72-276932a5571b",
   "metadata": {},
   "outputs": [],
   "source": [
    "import pandas as pd\n",
    "import numpy as np \n",
    "import matplotlib.pyplot as plt \n",
    "import seaborn as sns \n",
    "from sklearn.linear_model import LinearRegression\n",
    "from scipy.stats import pearsonr"
   ]
  },
  {
   "cell_type": "markdown",
   "id": "5f6ec7be-c5d3-427a-8ebc-2a6983b53b8e",
   "metadata": {},
   "source": [
    "# 1 - **Data Wrangling**"
   ]
  },
  {
   "cell_type": "markdown",
   "id": "54b9b352-2873-4ec9-bd45-f93cdc9d213e",
   "metadata": {},
   "source": [
    "### Base de dados: Usuários cadastrados"
   ]
  },
  {
   "cell_type": "markdown",
   "id": "b6fbd673-7f75-4e2d-be5e-0845ae97bfcf",
   "metadata": {},
   "source": [
    "Para a leitura da base de dados, utilizamos o comando *pd.read_csv()*"
   ]
  },
  {
   "cell_type": "code",
   "execution_count": 146,
   "id": "782dff2d-2f8f-4df9-b035-897d57fd3249",
   "metadata": {},
   "outputs": [],
   "source": [
    "users_registered = pd.read_csv('data/usuarios_cadastrados_ip.csv', header = 0, sep=',')"
   ]
  },
  {
   "cell_type": "markdown",
   "id": "190e4063-6aa8-4dff-bc74-6c2e13c15350",
   "metadata": {},
   "source": [
    "visualização das colunas presentes no dataframe utilizando o atributo *df.columns*. \n",
    "\n",
    "Desta forma, percebemos que o dataframe contém as seguintes colunas: \n",
    "\n",
    "* **'usuario_id'**:            identificador único do usuário\n",
    "* **'municipio'**:             município do usuário\n",
    "* **'cargo'**:                 cargo ocupado pelo usuário\n",
    "* **'data_criacao_cadastro'**: data de criação do cadastro do usuário"
   ]
  },
  {
   "cell_type": "code",
   "execution_count": 147,
   "id": "dce442e3-cb4f-4c68-838a-f6559f0a5bf2",
   "metadata": {},
   "outputs": [
    {
     "data": {
      "text/plain": [
       "Index(['usuario_id', 'municipio', 'cargo', 'data_criacao_cadastro'], dtype='object')"
      ]
     },
     "execution_count": 147,
     "metadata": {},
     "output_type": "execute_result"
    }
   ],
   "source": [
    "users_registered.columns"
   ]
  },
  {
   "cell_type": "markdown",
   "id": "8ae61985-e085-46a1-af30-051f8ac23b29",
   "metadata": {
    "jp-MarkdownHeadingCollapsed": true
   },
   "source": [
    "Para visualizar a quantidade de registros no dataset de usuários cadastrados, utilizando o comando *len(df)*, este, por sua vez é um comando nativo do python que nos permite obter a quantidade de itens presentes em um objeto do tipo lista.\n",
    "\n",
    "Ao aplicarmos o comando, percebemos que o nosso dataframe de usuários cadastrados possui **695 registros**."
   ]
  },
  {
   "cell_type": "code",
   "execution_count": 148,
   "id": "8d4bf591-babc-4eb8-82f5-1eb8795ac05f",
   "metadata": {},
   "outputs": [
    {
     "data": {
      "text/plain": [
       "695"
      ]
     },
     "execution_count": 148,
     "metadata": {},
     "output_type": "execute_result"
    }
   ],
   "source": [
    "len(users_registered)"
   ]
  },
  {
   "cell_type": "markdown",
   "id": "483a6369-fc66-4041-8674-ecd6846aa6e0",
   "metadata": {},
   "source": [
    "Visualização da descritiva dos dados, utilizando o método *df.describe()*"
   ]
  },
  {
   "cell_type": "code",
   "execution_count": 149,
   "id": "d2d699bb-18b8-45ef-8fe6-e841f3ba92a4",
   "metadata": {},
   "outputs": [
    {
     "data": {
      "text/html": [
       "<div>\n",
       "<style scoped>\n",
       "    .dataframe tbody tr th:only-of-type {\n",
       "        vertical-align: middle;\n",
       "    }\n",
       "\n",
       "    .dataframe tbody tr th {\n",
       "        vertical-align: top;\n",
       "    }\n",
       "\n",
       "    .dataframe thead th {\n",
       "        text-align: right;\n",
       "    }\n",
       "</style>\n",
       "<table border=\"1\" class=\"dataframe\">\n",
       "  <thead>\n",
       "    <tr style=\"text-align: right;\">\n",
       "      <th></th>\n",
       "      <th>usuario_id</th>\n",
       "      <th>municipio</th>\n",
       "      <th>cargo</th>\n",
       "      <th>data_criacao_cadastro</th>\n",
       "    </tr>\n",
       "  </thead>\n",
       "  <tbody>\n",
       "    <tr>\n",
       "      <th>count</th>\n",
       "      <td>695</td>\n",
       "      <td>695</td>\n",
       "      <td>695</td>\n",
       "      <td>695</td>\n",
       "    </tr>\n",
       "    <tr>\n",
       "      <th>unique</th>\n",
       "      <td>695</td>\n",
       "      <td>70</td>\n",
       "      <td>2</td>\n",
       "      <td>106</td>\n",
       "    </tr>\n",
       "    <tr>\n",
       "      <th>top</th>\n",
       "      <td>a034d9fc-d54a-4a89-bdef-2e596af3a856</td>\n",
       "      <td>Itabira - MG</td>\n",
       "      <td>Coordenação de Equipe</td>\n",
       "      <td>16/3/2023</td>\n",
       "    </tr>\n",
       "    <tr>\n",
       "      <th>freq</th>\n",
       "      <td>1</td>\n",
       "      <td>38</td>\n",
       "      <td>568</td>\n",
       "      <td>55</td>\n",
       "    </tr>\n",
       "  </tbody>\n",
       "</table>\n",
       "</div>"
      ],
      "text/plain": [
       "                                  usuario_id     municipio  \\\n",
       "count                                    695           695   \n",
       "unique                                   695            70   \n",
       "top     a034d9fc-d54a-4a89-bdef-2e596af3a856  Itabira - MG   \n",
       "freq                                       1            38   \n",
       "\n",
       "                        cargo data_criacao_cadastro  \n",
       "count                     695                   695  \n",
       "unique                      2                   106  \n",
       "top     Coordenação de Equipe             16/3/2023  \n",
       "freq                      568                    55  "
      ]
     },
     "execution_count": 149,
     "metadata": {},
     "output_type": "execute_result"
    }
   ],
   "source": [
    "users_registered.describe()"
   ]
  },
  {
   "cell_type": "markdown",
   "id": "2498daab-401b-4d58-a126-997e034c643c",
   "metadata": {},
   "source": [
    "É de grande importância verificar a presença de duplicadas num dataset, desta forma utilizamos o comando df.duplicated() da biblioteca pandas para tal análise."
   ]
  },
  {
   "cell_type": "code",
   "execution_count": 150,
   "id": "b642c76d-c10a-4c3c-8fb9-31f64898230e",
   "metadata": {},
   "outputs": [
    {
     "data": {
      "text/plain": [
       "0"
      ]
     },
     "execution_count": 150,
     "metadata": {},
     "output_type": "execute_result"
    }
   ],
   "source": [
    "users_registered.duplicated().sum()"
   ]
  },
  {
   "cell_type": "markdown",
   "id": "5100b851-6838-4774-a377-5b2262ba81f5",
   "metadata": {},
   "source": [
    "visualização dos cinco primeiros e cinco últimos registros do dataset de usuários cadastrados, para verificar os tipos de dados e consistência destes na base de dados.  \n",
    "\n",
    "Para isto, utilizamos os comandos *df.head()* e *df.tail()*"
   ]
  },
  {
   "cell_type": "code",
   "execution_count": 151,
   "id": "0d4312d7-e5ef-41df-9672-2de9629a7274",
   "metadata": {},
   "outputs": [
    {
     "data": {
      "text/html": [
       "<div>\n",
       "<style scoped>\n",
       "    .dataframe tbody tr th:only-of-type {\n",
       "        vertical-align: middle;\n",
       "    }\n",
       "\n",
       "    .dataframe tbody tr th {\n",
       "        vertical-align: top;\n",
       "    }\n",
       "\n",
       "    .dataframe thead th {\n",
       "        text-align: right;\n",
       "    }\n",
       "</style>\n",
       "<table border=\"1\" class=\"dataframe\">\n",
       "  <thead>\n",
       "    <tr style=\"text-align: right;\">\n",
       "      <th></th>\n",
       "      <th>usuario_id</th>\n",
       "      <th>municipio</th>\n",
       "      <th>cargo</th>\n",
       "      <th>data_criacao_cadastro</th>\n",
       "    </tr>\n",
       "  </thead>\n",
       "  <tbody>\n",
       "    <tr>\n",
       "      <th>0</th>\n",
       "      <td>a034d9fc-d54a-4a89-bdef-2e596af3a856</td>\n",
       "      <td>São Roque - SP</td>\n",
       "      <td>Coordenação de Equipe</td>\n",
       "      <td>23/3/2023</td>\n",
       "    </tr>\n",
       "    <tr>\n",
       "      <th>1</th>\n",
       "      <td>877b90f4-d597-4348-a2e7-e29c4f3b3f4e</td>\n",
       "      <td>Marechal Thaumaturgo - AC</td>\n",
       "      <td>Coordenação APS</td>\n",
       "      <td>24/10/2023</td>\n",
       "    </tr>\n",
       "    <tr>\n",
       "      <th>2</th>\n",
       "      <td>83d92bea-1688-4fb0-8332-b9e54d97d3ec</td>\n",
       "      <td>Jacobina - BA</td>\n",
       "      <td>Coordenação de Equipe</td>\n",
       "      <td>4/4/2023</td>\n",
       "    </tr>\n",
       "    <tr>\n",
       "      <th>3</th>\n",
       "      <td>62009c46-5bb3-43d0-b510-18bf0a176bab</td>\n",
       "      <td>Santa Luz - PI</td>\n",
       "      <td>Coordenação de Equipe</td>\n",
       "      <td>25/5/2023</td>\n",
       "    </tr>\n",
       "    <tr>\n",
       "      <th>4</th>\n",
       "      <td>91e21d61-6a57-4e85-9d6b-b009bc677e59</td>\n",
       "      <td>Brejo de Areia - MA</td>\n",
       "      <td>Coordenação de Equipe</td>\n",
       "      <td>29/8/2023</td>\n",
       "    </tr>\n",
       "  </tbody>\n",
       "</table>\n",
       "</div>"
      ],
      "text/plain": [
       "                             usuario_id                  municipio  \\\n",
       "0  a034d9fc-d54a-4a89-bdef-2e596af3a856             São Roque - SP   \n",
       "1  877b90f4-d597-4348-a2e7-e29c4f3b3f4e  Marechal Thaumaturgo - AC   \n",
       "2  83d92bea-1688-4fb0-8332-b9e54d97d3ec              Jacobina - BA   \n",
       "3  62009c46-5bb3-43d0-b510-18bf0a176bab             Santa Luz - PI   \n",
       "4  91e21d61-6a57-4e85-9d6b-b009bc677e59        Brejo de Areia - MA   \n",
       "\n",
       "                   cargo data_criacao_cadastro  \n",
       "0  Coordenação de Equipe             23/3/2023  \n",
       "1        Coordenação APS            24/10/2023  \n",
       "2  Coordenação de Equipe              4/4/2023  \n",
       "3  Coordenação de Equipe             25/5/2023  \n",
       "4  Coordenação de Equipe             29/8/2023  "
      ]
     },
     "execution_count": 151,
     "metadata": {},
     "output_type": "execute_result"
    }
   ],
   "source": [
    "users_registered.head()"
   ]
  },
  {
   "cell_type": "code",
   "execution_count": 152,
   "id": "b5825b5c-8bb1-4923-a381-c86e3bcaa6e6",
   "metadata": {},
   "outputs": [
    {
     "data": {
      "text/html": [
       "<div>\n",
       "<style scoped>\n",
       "    .dataframe tbody tr th:only-of-type {\n",
       "        vertical-align: middle;\n",
       "    }\n",
       "\n",
       "    .dataframe tbody tr th {\n",
       "        vertical-align: top;\n",
       "    }\n",
       "\n",
       "    .dataframe thead th {\n",
       "        text-align: right;\n",
       "    }\n",
       "</style>\n",
       "<table border=\"1\" class=\"dataframe\">\n",
       "  <thead>\n",
       "    <tr style=\"text-align: right;\">\n",
       "      <th></th>\n",
       "      <th>usuario_id</th>\n",
       "      <th>municipio</th>\n",
       "      <th>cargo</th>\n",
       "      <th>data_criacao_cadastro</th>\n",
       "    </tr>\n",
       "  </thead>\n",
       "  <tbody>\n",
       "    <tr>\n",
       "      <th>690</th>\n",
       "      <td>a9fbb9f8-348d-468c-a109-2f5bf6b9706c</td>\n",
       "      <td>Jucuruçu - BA</td>\n",
       "      <td>Coordenação APS</td>\n",
       "      <td>25/10/2023</td>\n",
       "    </tr>\n",
       "    <tr>\n",
       "      <th>691</th>\n",
       "      <td>462377af-9eda-4aa2-ac24-82af7f3add53</td>\n",
       "      <td>Inhambupe - BA</td>\n",
       "      <td>Coordenação APS</td>\n",
       "      <td>17/11/2023</td>\n",
       "    </tr>\n",
       "    <tr>\n",
       "      <th>692</th>\n",
       "      <td>524fa2c4-dca9-4704-a25f-bcdd2e78389c</td>\n",
       "      <td>Paulo Ramos - MA</td>\n",
       "      <td>Coordenação de Equipe</td>\n",
       "      <td>25/3/2024</td>\n",
       "    </tr>\n",
       "    <tr>\n",
       "      <th>693</th>\n",
       "      <td>1fb0a0b8-012d-45d6-9908-6d31325929a6</td>\n",
       "      <td>Jaguapitã - PR</td>\n",
       "      <td>Coordenação APS</td>\n",
       "      <td>9/2/2023</td>\n",
       "    </tr>\n",
       "    <tr>\n",
       "      <th>694</th>\n",
       "      <td>8e1f3b8a-ff3b-4712-ad5d-7cb3e3f1271c</td>\n",
       "      <td>Pacoti - CE</td>\n",
       "      <td>Coordenação de Equipe</td>\n",
       "      <td>21/2/2024</td>\n",
       "    </tr>\n",
       "  </tbody>\n",
       "</table>\n",
       "</div>"
      ],
      "text/plain": [
       "                               usuario_id         municipio  \\\n",
       "690  a9fbb9f8-348d-468c-a109-2f5bf6b9706c     Jucuruçu - BA   \n",
       "691  462377af-9eda-4aa2-ac24-82af7f3add53    Inhambupe - BA   \n",
       "692  524fa2c4-dca9-4704-a25f-bcdd2e78389c  Paulo Ramos - MA   \n",
       "693  1fb0a0b8-012d-45d6-9908-6d31325929a6    Jaguapitã - PR   \n",
       "694  8e1f3b8a-ff3b-4712-ad5d-7cb3e3f1271c       Pacoti - CE   \n",
       "\n",
       "                     cargo data_criacao_cadastro  \n",
       "690        Coordenação APS            25/10/2023  \n",
       "691        Coordenação APS            17/11/2023  \n",
       "692  Coordenação de Equipe             25/3/2024  \n",
       "693        Coordenação APS              9/2/2023  \n",
       "694  Coordenação de Equipe             21/2/2024  "
      ]
     },
     "execution_count": 152,
     "metadata": {},
     "output_type": "execute_result"
    }
   ],
   "source": [
    "users_registered.tail()"
   ]
  },
  {
   "cell_type": "markdown",
   "id": "4877adfe-ed3c-4d31-a0de-3318dd2af267",
   "metadata": {},
   "source": [
    "### Base de dados: Dias ativos dos usuários"
   ]
  },
  {
   "cell_type": "markdown",
   "id": "d4256a4b-3d48-4e4b-9e77-176be804b698",
   "metadata": {},
   "source": [
    "Utilizamos novamente o comando *pd.read_csv()* para a leitura da base de dados inerente aos dias ativos dos usuários. "
   ]
  },
  {
   "cell_type": "code",
   "execution_count": 153,
   "id": "0417a99c-8978-4967-9a1a-312d2ce9eb1d",
   "metadata": {},
   "outputs": [],
   "source": [
    "active_days = pd.read_csv('data/dias_ativo_usuarios_ip.csv', header=0, sep=',')"
   ]
  },
  {
   "cell_type": "markdown",
   "id": "06f40e3d-9ee0-43db-9342-8ce8341f3c04",
   "metadata": {},
   "source": [
    "Aqui realizamos novamente a verificação das colunas presentes no dataset, através do atributo **df.columns**. \n",
    "\n",
    "Com este, percebemos que o dataset possui as seguintes colunas: \n",
    "\n",
    "* **'usuario_id'** :  identificador único do usuário\n",
    "* **'data_ativo'** :  data de atividade do usuário\n",
    "* **'acessou_listas_nominais'** : booleano, sendo verdadeiro (true) se o usuário acessou pelo menos uma lista nominal.\n",
    "* **'clicks_imprimir_lista'** :  nº de click para realizar a impressão de uma lista nominal\n",
    "* **'clicks_filtrar_lista'** : nº de clicks para aplicar um filtro na lista nominal"
   ]
  },
  {
   "cell_type": "code",
   "execution_count": 154,
   "id": "0de37cf8-3bbd-4121-8676-9be9a98f8a48",
   "metadata": {},
   "outputs": [
    {
     "data": {
      "text/plain": [
       "Index(['usuario_id', 'data_ativo', 'acessou_listas_nominais',\n",
       "       'clicks_imprimir_lista', 'clicks_filtrar_lista'],\n",
       "      dtype='object')"
      ]
     },
     "execution_count": 154,
     "metadata": {},
     "output_type": "execute_result"
    }
   ],
   "source": [
    "active_days.columns"
   ]
  },
  {
   "cell_type": "markdown",
   "id": "8a8542d4-c6a2-4d3c-8f25-10d2728deaa4",
   "metadata": {},
   "source": [
    "Novamente, utilizamos o comando *len(df)* para verificar a quantidade de registros no dataset inerente aos dias ativos dos usuários. \n",
    "\n",
    "Através deste percebemos que o dataset possui **20777** registros. Sendo consideravelmente maior do que o dataframe de usuários registrados, demonstrando assim que há monitoramento considerável da atividade dos usuários na plataforma, o que nos permite realizar uma análise de dados eficiente."
   ]
  },
  {
   "cell_type": "code",
   "execution_count": 155,
   "id": "f27681e9-7650-4f97-a799-79c2071c1160",
   "metadata": {},
   "outputs": [
    {
     "data": {
      "text/plain": [
       "20777"
      ]
     },
     "execution_count": 155,
     "metadata": {},
     "output_type": "execute_result"
    }
   ],
   "source": [
    "len(active_days)"
   ]
  },
  {
   "cell_type": "markdown",
   "id": "1dde9a75-7a29-48fb-a45e-98f34d8776d8",
   "metadata": {},
   "source": [
    "Apenas para vislumbre dos dados, seus tipos e consistências, utilizamos novamente os comandos *df.head()* e *df.tail()* para verificação dos cinco primeiros e cinco últimos registros presentes no dataset."
   ]
  },
  {
   "cell_type": "code",
   "execution_count": 156,
   "id": "d4e5e5dc-344d-45aa-b9da-769566d241d0",
   "metadata": {},
   "outputs": [
    {
     "data": {
      "text/html": [
       "<div>\n",
       "<style scoped>\n",
       "    .dataframe tbody tr th:only-of-type {\n",
       "        vertical-align: middle;\n",
       "    }\n",
       "\n",
       "    .dataframe tbody tr th {\n",
       "        vertical-align: top;\n",
       "    }\n",
       "\n",
       "    .dataframe thead th {\n",
       "        text-align: right;\n",
       "    }\n",
       "</style>\n",
       "<table border=\"1\" class=\"dataframe\">\n",
       "  <thead>\n",
       "    <tr style=\"text-align: right;\">\n",
       "      <th></th>\n",
       "      <th>usuario_id</th>\n",
       "      <th>data_ativo</th>\n",
       "      <th>acessou_listas_nominais</th>\n",
       "      <th>clicks_imprimir_lista</th>\n",
       "      <th>clicks_filtrar_lista</th>\n",
       "    </tr>\n",
       "  </thead>\n",
       "  <tbody>\n",
       "    <tr>\n",
       "      <th>0</th>\n",
       "      <td>dec6bb91-05a8-4709-a7af-ab2aba6d1f3e</td>\n",
       "      <td>18/12/2023</td>\n",
       "      <td>True</td>\n",
       "      <td>0</td>\n",
       "      <td>0</td>\n",
       "    </tr>\n",
       "    <tr>\n",
       "      <th>1</th>\n",
       "      <td>0a83d262-3630-41a5-b36f-a48ebe9f80e2</td>\n",
       "      <td>18/12/2023</td>\n",
       "      <td>True</td>\n",
       "      <td>0</td>\n",
       "      <td>0</td>\n",
       "    </tr>\n",
       "    <tr>\n",
       "      <th>2</th>\n",
       "      <td>7da4250a-920f-495d-a2b9-7a1be1461afa</td>\n",
       "      <td>19/12/2023</td>\n",
       "      <td>True</td>\n",
       "      <td>0</td>\n",
       "      <td>0</td>\n",
       "    </tr>\n",
       "    <tr>\n",
       "      <th>3</th>\n",
       "      <td>269a5879-68d8-495b-9499-ead6c7809af5</td>\n",
       "      <td>24/12/2023</td>\n",
       "      <td>True</td>\n",
       "      <td>0</td>\n",
       "      <td>0</td>\n",
       "    </tr>\n",
       "    <tr>\n",
       "      <th>4</th>\n",
       "      <td>c84b7864-06ad-42bc-bdce-b6090042e0d9</td>\n",
       "      <td>3/1/2024</td>\n",
       "      <td>True</td>\n",
       "      <td>0</td>\n",
       "      <td>0</td>\n",
       "    </tr>\n",
       "  </tbody>\n",
       "</table>\n",
       "</div>"
      ],
      "text/plain": [
       "                             usuario_id  data_ativo  acessou_listas_nominais  \\\n",
       "0  dec6bb91-05a8-4709-a7af-ab2aba6d1f3e  18/12/2023                     True   \n",
       "1  0a83d262-3630-41a5-b36f-a48ebe9f80e2  18/12/2023                     True   \n",
       "2  7da4250a-920f-495d-a2b9-7a1be1461afa  19/12/2023                     True   \n",
       "3  269a5879-68d8-495b-9499-ead6c7809af5  24/12/2023                     True   \n",
       "4  c84b7864-06ad-42bc-bdce-b6090042e0d9    3/1/2024                     True   \n",
       "\n",
       "   clicks_imprimir_lista  clicks_filtrar_lista  \n",
       "0                      0                     0  \n",
       "1                      0                     0  \n",
       "2                      0                     0  \n",
       "3                      0                     0  \n",
       "4                      0                     0  "
      ]
     },
     "execution_count": 156,
     "metadata": {},
     "output_type": "execute_result"
    }
   ],
   "source": [
    "active_days.head()"
   ]
  },
  {
   "cell_type": "code",
   "execution_count": 157,
   "id": "8f613e02-5e49-4cc5-b4cc-6471af6f6cd1",
   "metadata": {},
   "outputs": [
    {
     "data": {
      "text/html": [
       "<div>\n",
       "<style scoped>\n",
       "    .dataframe tbody tr th:only-of-type {\n",
       "        vertical-align: middle;\n",
       "    }\n",
       "\n",
       "    .dataframe tbody tr th {\n",
       "        vertical-align: top;\n",
       "    }\n",
       "\n",
       "    .dataframe thead th {\n",
       "        text-align: right;\n",
       "    }\n",
       "</style>\n",
       "<table border=\"1\" class=\"dataframe\">\n",
       "  <thead>\n",
       "    <tr style=\"text-align: right;\">\n",
       "      <th></th>\n",
       "      <th>usuario_id</th>\n",
       "      <th>data_ativo</th>\n",
       "      <th>acessou_listas_nominais</th>\n",
       "      <th>clicks_imprimir_lista</th>\n",
       "      <th>clicks_filtrar_lista</th>\n",
       "    </tr>\n",
       "  </thead>\n",
       "  <tbody>\n",
       "    <tr>\n",
       "      <th>20772</th>\n",
       "      <td>cb58836c-062a-45fe-af65-fd69b272979e</td>\n",
       "      <td>24/10/2023</td>\n",
       "      <td>True</td>\n",
       "      <td>0</td>\n",
       "      <td>0</td>\n",
       "    </tr>\n",
       "    <tr>\n",
       "      <th>20773</th>\n",
       "      <td>e236ca92-7a08-4798-a116-e02ee4409cfe</td>\n",
       "      <td>11/5/2023</td>\n",
       "      <td>True</td>\n",
       "      <td>0</td>\n",
       "      <td>0</td>\n",
       "    </tr>\n",
       "    <tr>\n",
       "      <th>20774</th>\n",
       "      <td>0d7d8216-15ff-4f1a-a91f-ea4bd6e500a0</td>\n",
       "      <td>23/10/2024</td>\n",
       "      <td>True</td>\n",
       "      <td>0</td>\n",
       "      <td>0</td>\n",
       "    </tr>\n",
       "    <tr>\n",
       "      <th>20775</th>\n",
       "      <td>d825e410-b243-4c61-818b-d849c8c93dbb</td>\n",
       "      <td>15/10/2024</td>\n",
       "      <td>False</td>\n",
       "      <td>0</td>\n",
       "      <td>0</td>\n",
       "    </tr>\n",
       "    <tr>\n",
       "      <th>20776</th>\n",
       "      <td>bea210a5-925b-47ed-ae71-38cfa6e74467</td>\n",
       "      <td>30/7/2024</td>\n",
       "      <td>True</td>\n",
       "      <td>0</td>\n",
       "      <td>0</td>\n",
       "    </tr>\n",
       "  </tbody>\n",
       "</table>\n",
       "</div>"
      ],
      "text/plain": [
       "                                 usuario_id  data_ativo  \\\n",
       "20772  cb58836c-062a-45fe-af65-fd69b272979e  24/10/2023   \n",
       "20773  e236ca92-7a08-4798-a116-e02ee4409cfe   11/5/2023   \n",
       "20774  0d7d8216-15ff-4f1a-a91f-ea4bd6e500a0  23/10/2024   \n",
       "20775  d825e410-b243-4c61-818b-d849c8c93dbb  15/10/2024   \n",
       "20776  bea210a5-925b-47ed-ae71-38cfa6e74467   30/7/2024   \n",
       "\n",
       "       acessou_listas_nominais  clicks_imprimir_lista  clicks_filtrar_lista  \n",
       "20772                     True                      0                     0  \n",
       "20773                     True                      0                     0  \n",
       "20774                     True                      0                     0  \n",
       "20775                    False                      0                     0  \n",
       "20776                     True                      0                     0  "
      ]
     },
     "execution_count": 157,
     "metadata": {},
     "output_type": "execute_result"
    }
   ],
   "source": [
    "active_days.tail()"
   ]
  },
  {
   "cell_type": "markdown",
   "id": "ab82d0bb-3c44-472d-a551-d16977318e73",
   "metadata": {},
   "source": [
    "Visualização da descritiva dos dados, utilizando o método *df.describe()*"
   ]
  },
  {
   "cell_type": "code",
   "execution_count": 158,
   "id": "3f578135-228b-445d-b89b-51a29fbf7956",
   "metadata": {},
   "outputs": [
    {
     "data": {
      "text/html": [
       "<div>\n",
       "<style scoped>\n",
       "    .dataframe tbody tr th:only-of-type {\n",
       "        vertical-align: middle;\n",
       "    }\n",
       "\n",
       "    .dataframe tbody tr th {\n",
       "        vertical-align: top;\n",
       "    }\n",
       "\n",
       "    .dataframe thead th {\n",
       "        text-align: right;\n",
       "    }\n",
       "</style>\n",
       "<table border=\"1\" class=\"dataframe\">\n",
       "  <thead>\n",
       "    <tr style=\"text-align: right;\">\n",
       "      <th></th>\n",
       "      <th>clicks_imprimir_lista</th>\n",
       "      <th>clicks_filtrar_lista</th>\n",
       "    </tr>\n",
       "  </thead>\n",
       "  <tbody>\n",
       "    <tr>\n",
       "      <th>count</th>\n",
       "      <td>20777.000000</td>\n",
       "      <td>20777.000000</td>\n",
       "    </tr>\n",
       "    <tr>\n",
       "      <th>mean</th>\n",
       "      <td>0.465707</td>\n",
       "      <td>0.767435</td>\n",
       "    </tr>\n",
       "    <tr>\n",
       "      <th>std</th>\n",
       "      <td>2.866106</td>\n",
       "      <td>4.011021</td>\n",
       "    </tr>\n",
       "    <tr>\n",
       "      <th>min</th>\n",
       "      <td>0.000000</td>\n",
       "      <td>0.000000</td>\n",
       "    </tr>\n",
       "    <tr>\n",
       "      <th>25%</th>\n",
       "      <td>0.000000</td>\n",
       "      <td>0.000000</td>\n",
       "    </tr>\n",
       "    <tr>\n",
       "      <th>50%</th>\n",
       "      <td>0.000000</td>\n",
       "      <td>0.000000</td>\n",
       "    </tr>\n",
       "    <tr>\n",
       "      <th>75%</th>\n",
       "      <td>0.000000</td>\n",
       "      <td>0.000000</td>\n",
       "    </tr>\n",
       "    <tr>\n",
       "      <th>max</th>\n",
       "      <td>234.000000</td>\n",
       "      <td>249.000000</td>\n",
       "    </tr>\n",
       "  </tbody>\n",
       "</table>\n",
       "</div>"
      ],
      "text/plain": [
       "       clicks_imprimir_lista  clicks_filtrar_lista\n",
       "count           20777.000000          20777.000000\n",
       "mean                0.465707              0.767435\n",
       "std                 2.866106              4.011021\n",
       "min                 0.000000              0.000000\n",
       "25%                 0.000000              0.000000\n",
       "50%                 0.000000              0.000000\n",
       "75%                 0.000000              0.000000\n",
       "max               234.000000            249.000000"
      ]
     },
     "execution_count": 158,
     "metadata": {},
     "output_type": "execute_result"
    }
   ],
   "source": [
    "active_days.describe()"
   ]
  },
  {
   "cell_type": "markdown",
   "id": "77cb290a-0f52-4569-8ce9-3ed5d3f78cbc",
   "metadata": {},
   "source": [
    "Por padrão, verificamos a presença de duplicatas no dataset e percebemos a ausência de duplicatas. "
   ]
  },
  {
   "cell_type": "code",
   "execution_count": 159,
   "id": "c51d98e1-2a32-4476-93a6-e2f68e90ea20",
   "metadata": {},
   "outputs": [
    {
     "data": {
      "text/plain": [
       "0"
      ]
     },
     "execution_count": 159,
     "metadata": {},
     "output_type": "execute_result"
    }
   ],
   "source": [
    "active_days.duplicated().sum()"
   ]
  },
  {
   "cell_type": "markdown",
   "id": "7cd8618c-66ad-4b1a-84c7-852f92aea0ce",
   "metadata": {},
   "source": [
    "## União das bases de dados"
   ]
  },
  {
   "cell_type": "markdown",
   "id": "c1bd7495-a7c1-460e-96a3-db8597799a05",
   "metadata": {},
   "source": [
    "Sabendo que possuimos bases de dados distintas, mas que apontam para um mesmo objetivo, entendemos que há possibilidade de união dos datasets o que foi realizando utilizando a técnida de união de dados *inner join*, onde tal união foi realizada com bases nos id's dos usuários cadastrados e presentes na base de dados dos dias ativos.\n",
    "\n",
    "A lógica segue a mesma aplicação do método *inner join*, comum em bancos de dados SQL  \n",
    "\n",
    "Para tal, utilizamos o comando *pd.merge()*"
   ]
  },
  {
   "cell_type": "code",
   "execution_count": 160,
   "id": "7f6f8cb4-c5d9-42ca-a55a-9c7cd7294281",
   "metadata": {},
   "outputs": [],
   "source": [
    "merged_bases =pd.merge(users_registered, active_days,how='inner', on=\"usuario_id\")"
   ]
  },
  {
   "cell_type": "code",
   "execution_count": 161,
   "id": "5d19c891-c0bc-4d75-b02e-835f7c272f5d",
   "metadata": {},
   "outputs": [
    {
     "data": {
      "text/html": [
       "<div>\n",
       "<style scoped>\n",
       "    .dataframe tbody tr th:only-of-type {\n",
       "        vertical-align: middle;\n",
       "    }\n",
       "\n",
       "    .dataframe tbody tr th {\n",
       "        vertical-align: top;\n",
       "    }\n",
       "\n",
       "    .dataframe thead th {\n",
       "        text-align: right;\n",
       "    }\n",
       "</style>\n",
       "<table border=\"1\" class=\"dataframe\">\n",
       "  <thead>\n",
       "    <tr style=\"text-align: right;\">\n",
       "      <th></th>\n",
       "      <th>usuario_id</th>\n",
       "      <th>municipio</th>\n",
       "      <th>cargo</th>\n",
       "      <th>data_criacao_cadastro</th>\n",
       "      <th>data_ativo</th>\n",
       "      <th>acessou_listas_nominais</th>\n",
       "      <th>clicks_imprimir_lista</th>\n",
       "      <th>clicks_filtrar_lista</th>\n",
       "    </tr>\n",
       "  </thead>\n",
       "  <tbody>\n",
       "    <tr>\n",
       "      <th>0</th>\n",
       "      <td>a034d9fc-d54a-4a89-bdef-2e596af3a856</td>\n",
       "      <td>São Roque - SP</td>\n",
       "      <td>Coordenação de Equipe</td>\n",
       "      <td>23/3/2023</td>\n",
       "      <td>11/8/2023</td>\n",
       "      <td>True</td>\n",
       "      <td>0</td>\n",
       "      <td>0</td>\n",
       "    </tr>\n",
       "    <tr>\n",
       "      <th>1</th>\n",
       "      <td>a034d9fc-d54a-4a89-bdef-2e596af3a856</td>\n",
       "      <td>São Roque - SP</td>\n",
       "      <td>Coordenação de Equipe</td>\n",
       "      <td>23/3/2023</td>\n",
       "      <td>14/2/2024</td>\n",
       "      <td>True</td>\n",
       "      <td>0</td>\n",
       "      <td>2</td>\n",
       "    </tr>\n",
       "    <tr>\n",
       "      <th>2</th>\n",
       "      <td>a034d9fc-d54a-4a89-bdef-2e596af3a856</td>\n",
       "      <td>São Roque - SP</td>\n",
       "      <td>Coordenação de Equipe</td>\n",
       "      <td>23/3/2023</td>\n",
       "      <td>13/12/2023</td>\n",
       "      <td>True</td>\n",
       "      <td>0</td>\n",
       "      <td>0</td>\n",
       "    </tr>\n",
       "    <tr>\n",
       "      <th>3</th>\n",
       "      <td>a034d9fc-d54a-4a89-bdef-2e596af3a856</td>\n",
       "      <td>São Roque - SP</td>\n",
       "      <td>Coordenação de Equipe</td>\n",
       "      <td>23/3/2023</td>\n",
       "      <td>5/9/2023</td>\n",
       "      <td>True</td>\n",
       "      <td>0</td>\n",
       "      <td>0</td>\n",
       "    </tr>\n",
       "    <tr>\n",
       "      <th>4</th>\n",
       "      <td>a034d9fc-d54a-4a89-bdef-2e596af3a856</td>\n",
       "      <td>São Roque - SP</td>\n",
       "      <td>Coordenação de Equipe</td>\n",
       "      <td>23/3/2023</td>\n",
       "      <td>23/11/2023</td>\n",
       "      <td>True</td>\n",
       "      <td>0</td>\n",
       "      <td>0</td>\n",
       "    </tr>\n",
       "    <tr>\n",
       "      <th>...</th>\n",
       "      <td>...</td>\n",
       "      <td>...</td>\n",
       "      <td>...</td>\n",
       "      <td>...</td>\n",
       "      <td>...</td>\n",
       "      <td>...</td>\n",
       "      <td>...</td>\n",
       "      <td>...</td>\n",
       "    </tr>\n",
       "    <tr>\n",
       "      <th>20772</th>\n",
       "      <td>8e1f3b8a-ff3b-4712-ad5d-7cb3e3f1271c</td>\n",
       "      <td>Pacoti - CE</td>\n",
       "      <td>Coordenação de Equipe</td>\n",
       "      <td>21/2/2024</td>\n",
       "      <td>15/4/2024</td>\n",
       "      <td>True</td>\n",
       "      <td>0</td>\n",
       "      <td>1</td>\n",
       "    </tr>\n",
       "    <tr>\n",
       "      <th>20773</th>\n",
       "      <td>8e1f3b8a-ff3b-4712-ad5d-7cb3e3f1271c</td>\n",
       "      <td>Pacoti - CE</td>\n",
       "      <td>Coordenação de Equipe</td>\n",
       "      <td>21/2/2024</td>\n",
       "      <td>17/4/2024</td>\n",
       "      <td>True</td>\n",
       "      <td>0</td>\n",
       "      <td>0</td>\n",
       "    </tr>\n",
       "    <tr>\n",
       "      <th>20774</th>\n",
       "      <td>8e1f3b8a-ff3b-4712-ad5d-7cb3e3f1271c</td>\n",
       "      <td>Pacoti - CE</td>\n",
       "      <td>Coordenação de Equipe</td>\n",
       "      <td>21/2/2024</td>\n",
       "      <td>28/8/2024</td>\n",
       "      <td>True</td>\n",
       "      <td>0</td>\n",
       "      <td>0</td>\n",
       "    </tr>\n",
       "    <tr>\n",
       "      <th>20775</th>\n",
       "      <td>8e1f3b8a-ff3b-4712-ad5d-7cb3e3f1271c</td>\n",
       "      <td>Pacoti - CE</td>\n",
       "      <td>Coordenação de Equipe</td>\n",
       "      <td>21/2/2024</td>\n",
       "      <td>4/11/2024</td>\n",
       "      <td>True</td>\n",
       "      <td>0</td>\n",
       "      <td>1</td>\n",
       "    </tr>\n",
       "    <tr>\n",
       "      <th>20776</th>\n",
       "      <td>8e1f3b8a-ff3b-4712-ad5d-7cb3e3f1271c</td>\n",
       "      <td>Pacoti - CE</td>\n",
       "      <td>Coordenação de Equipe</td>\n",
       "      <td>21/2/2024</td>\n",
       "      <td>14/5/2024</td>\n",
       "      <td>True</td>\n",
       "      <td>0</td>\n",
       "      <td>0</td>\n",
       "    </tr>\n",
       "  </tbody>\n",
       "</table>\n",
       "<p>20777 rows × 8 columns</p>\n",
       "</div>"
      ],
      "text/plain": [
       "                                 usuario_id       municipio  \\\n",
       "0      a034d9fc-d54a-4a89-bdef-2e596af3a856  São Roque - SP   \n",
       "1      a034d9fc-d54a-4a89-bdef-2e596af3a856  São Roque - SP   \n",
       "2      a034d9fc-d54a-4a89-bdef-2e596af3a856  São Roque - SP   \n",
       "3      a034d9fc-d54a-4a89-bdef-2e596af3a856  São Roque - SP   \n",
       "4      a034d9fc-d54a-4a89-bdef-2e596af3a856  São Roque - SP   \n",
       "...                                     ...             ...   \n",
       "20772  8e1f3b8a-ff3b-4712-ad5d-7cb3e3f1271c     Pacoti - CE   \n",
       "20773  8e1f3b8a-ff3b-4712-ad5d-7cb3e3f1271c     Pacoti - CE   \n",
       "20774  8e1f3b8a-ff3b-4712-ad5d-7cb3e3f1271c     Pacoti - CE   \n",
       "20775  8e1f3b8a-ff3b-4712-ad5d-7cb3e3f1271c     Pacoti - CE   \n",
       "20776  8e1f3b8a-ff3b-4712-ad5d-7cb3e3f1271c     Pacoti - CE   \n",
       "\n",
       "                       cargo data_criacao_cadastro  data_ativo  \\\n",
       "0      Coordenação de Equipe             23/3/2023   11/8/2023   \n",
       "1      Coordenação de Equipe             23/3/2023   14/2/2024   \n",
       "2      Coordenação de Equipe             23/3/2023  13/12/2023   \n",
       "3      Coordenação de Equipe             23/3/2023    5/9/2023   \n",
       "4      Coordenação de Equipe             23/3/2023  23/11/2023   \n",
       "...                      ...                   ...         ...   \n",
       "20772  Coordenação de Equipe             21/2/2024   15/4/2024   \n",
       "20773  Coordenação de Equipe             21/2/2024   17/4/2024   \n",
       "20774  Coordenação de Equipe             21/2/2024   28/8/2024   \n",
       "20775  Coordenação de Equipe             21/2/2024   4/11/2024   \n",
       "20776  Coordenação de Equipe             21/2/2024   14/5/2024   \n",
       "\n",
       "       acessou_listas_nominais  clicks_imprimir_lista  clicks_filtrar_lista  \n",
       "0                         True                      0                     0  \n",
       "1                         True                      0                     2  \n",
       "2                         True                      0                     0  \n",
       "3                         True                      0                     0  \n",
       "4                         True                      0                     0  \n",
       "...                        ...                    ...                   ...  \n",
       "20772                     True                      0                     1  \n",
       "20773                     True                      0                     0  \n",
       "20774                     True                      0                     0  \n",
       "20775                     True                      0                     1  \n",
       "20776                     True                      0                     0  \n",
       "\n",
       "[20777 rows x 8 columns]"
      ]
     },
     "execution_count": 161,
     "metadata": {},
     "output_type": "execute_result"
    }
   ],
   "source": [
    "merged_bases"
   ]
  },
  {
   "cell_type": "markdown",
   "id": "12420927-ce29-4be9-be4a-820da660fc12",
   "metadata": {},
   "source": [
    "Verificamos a quantidade de dados presente na base de dados e unida, e esta possui **20777 registros**."
   ]
  },
  {
   "cell_type": "code",
   "execution_count": 162,
   "id": "060147f5-7e2f-4ae7-9341-77569be1bca0",
   "metadata": {},
   "outputs": [
    {
     "data": {
      "text/plain": [
       "20777"
      ]
     },
     "execution_count": 162,
     "metadata": {},
     "output_type": "execute_result"
    }
   ],
   "source": [
    "len(merged_bases)"
   ]
  },
  {
   "cell_type": "markdown",
   "id": "590664ee-85af-4201-931a-f771a0257258",
   "metadata": {},
   "source": [
    "Analisamos a consistência dos dados, utilizando novamente os comandos df.head() e df.tail()"
   ]
  },
  {
   "cell_type": "code",
   "execution_count": 163,
   "id": "9b80ff9d-272d-4e99-ac30-c4451b82cc12",
   "metadata": {},
   "outputs": [
    {
     "data": {
      "text/html": [
       "<div>\n",
       "<style scoped>\n",
       "    .dataframe tbody tr th:only-of-type {\n",
       "        vertical-align: middle;\n",
       "    }\n",
       "\n",
       "    .dataframe tbody tr th {\n",
       "        vertical-align: top;\n",
       "    }\n",
       "\n",
       "    .dataframe thead th {\n",
       "        text-align: right;\n",
       "    }\n",
       "</style>\n",
       "<table border=\"1\" class=\"dataframe\">\n",
       "  <thead>\n",
       "    <tr style=\"text-align: right;\">\n",
       "      <th></th>\n",
       "      <th>usuario_id</th>\n",
       "      <th>municipio</th>\n",
       "      <th>cargo</th>\n",
       "      <th>data_criacao_cadastro</th>\n",
       "      <th>data_ativo</th>\n",
       "      <th>acessou_listas_nominais</th>\n",
       "      <th>clicks_imprimir_lista</th>\n",
       "      <th>clicks_filtrar_lista</th>\n",
       "    </tr>\n",
       "  </thead>\n",
       "  <tbody>\n",
       "    <tr>\n",
       "      <th>0</th>\n",
       "      <td>a034d9fc-d54a-4a89-bdef-2e596af3a856</td>\n",
       "      <td>São Roque - SP</td>\n",
       "      <td>Coordenação de Equipe</td>\n",
       "      <td>23/3/2023</td>\n",
       "      <td>11/8/2023</td>\n",
       "      <td>True</td>\n",
       "      <td>0</td>\n",
       "      <td>0</td>\n",
       "    </tr>\n",
       "    <tr>\n",
       "      <th>1</th>\n",
       "      <td>a034d9fc-d54a-4a89-bdef-2e596af3a856</td>\n",
       "      <td>São Roque - SP</td>\n",
       "      <td>Coordenação de Equipe</td>\n",
       "      <td>23/3/2023</td>\n",
       "      <td>14/2/2024</td>\n",
       "      <td>True</td>\n",
       "      <td>0</td>\n",
       "      <td>2</td>\n",
       "    </tr>\n",
       "    <tr>\n",
       "      <th>2</th>\n",
       "      <td>a034d9fc-d54a-4a89-bdef-2e596af3a856</td>\n",
       "      <td>São Roque - SP</td>\n",
       "      <td>Coordenação de Equipe</td>\n",
       "      <td>23/3/2023</td>\n",
       "      <td>13/12/2023</td>\n",
       "      <td>True</td>\n",
       "      <td>0</td>\n",
       "      <td>0</td>\n",
       "    </tr>\n",
       "    <tr>\n",
       "      <th>3</th>\n",
       "      <td>a034d9fc-d54a-4a89-bdef-2e596af3a856</td>\n",
       "      <td>São Roque - SP</td>\n",
       "      <td>Coordenação de Equipe</td>\n",
       "      <td>23/3/2023</td>\n",
       "      <td>5/9/2023</td>\n",
       "      <td>True</td>\n",
       "      <td>0</td>\n",
       "      <td>0</td>\n",
       "    </tr>\n",
       "    <tr>\n",
       "      <th>4</th>\n",
       "      <td>a034d9fc-d54a-4a89-bdef-2e596af3a856</td>\n",
       "      <td>São Roque - SP</td>\n",
       "      <td>Coordenação de Equipe</td>\n",
       "      <td>23/3/2023</td>\n",
       "      <td>23/11/2023</td>\n",
       "      <td>True</td>\n",
       "      <td>0</td>\n",
       "      <td>0</td>\n",
       "    </tr>\n",
       "  </tbody>\n",
       "</table>\n",
       "</div>"
      ],
      "text/plain": [
       "                             usuario_id       municipio  \\\n",
       "0  a034d9fc-d54a-4a89-bdef-2e596af3a856  São Roque - SP   \n",
       "1  a034d9fc-d54a-4a89-bdef-2e596af3a856  São Roque - SP   \n",
       "2  a034d9fc-d54a-4a89-bdef-2e596af3a856  São Roque - SP   \n",
       "3  a034d9fc-d54a-4a89-bdef-2e596af3a856  São Roque - SP   \n",
       "4  a034d9fc-d54a-4a89-bdef-2e596af3a856  São Roque - SP   \n",
       "\n",
       "                   cargo data_criacao_cadastro  data_ativo  \\\n",
       "0  Coordenação de Equipe             23/3/2023   11/8/2023   \n",
       "1  Coordenação de Equipe             23/3/2023   14/2/2024   \n",
       "2  Coordenação de Equipe             23/3/2023  13/12/2023   \n",
       "3  Coordenação de Equipe             23/3/2023    5/9/2023   \n",
       "4  Coordenação de Equipe             23/3/2023  23/11/2023   \n",
       "\n",
       "   acessou_listas_nominais  clicks_imprimir_lista  clicks_filtrar_lista  \n",
       "0                     True                      0                     0  \n",
       "1                     True                      0                     2  \n",
       "2                     True                      0                     0  \n",
       "3                     True                      0                     0  \n",
       "4                     True                      0                     0  "
      ]
     },
     "execution_count": 163,
     "metadata": {},
     "output_type": "execute_result"
    }
   ],
   "source": [
    "merged_bases.head()"
   ]
  },
  {
   "cell_type": "code",
   "execution_count": 164,
   "id": "d948bf70-a792-4d45-aabd-9f6e6cd2c56d",
   "metadata": {},
   "outputs": [
    {
     "data": {
      "text/html": [
       "<div>\n",
       "<style scoped>\n",
       "    .dataframe tbody tr th:only-of-type {\n",
       "        vertical-align: middle;\n",
       "    }\n",
       "\n",
       "    .dataframe tbody tr th {\n",
       "        vertical-align: top;\n",
       "    }\n",
       "\n",
       "    .dataframe thead th {\n",
       "        text-align: right;\n",
       "    }\n",
       "</style>\n",
       "<table border=\"1\" class=\"dataframe\">\n",
       "  <thead>\n",
       "    <tr style=\"text-align: right;\">\n",
       "      <th></th>\n",
       "      <th>usuario_id</th>\n",
       "      <th>municipio</th>\n",
       "      <th>cargo</th>\n",
       "      <th>data_criacao_cadastro</th>\n",
       "      <th>data_ativo</th>\n",
       "      <th>acessou_listas_nominais</th>\n",
       "      <th>clicks_imprimir_lista</th>\n",
       "      <th>clicks_filtrar_lista</th>\n",
       "    </tr>\n",
       "  </thead>\n",
       "  <tbody>\n",
       "    <tr>\n",
       "      <th>20772</th>\n",
       "      <td>8e1f3b8a-ff3b-4712-ad5d-7cb3e3f1271c</td>\n",
       "      <td>Pacoti - CE</td>\n",
       "      <td>Coordenação de Equipe</td>\n",
       "      <td>21/2/2024</td>\n",
       "      <td>15/4/2024</td>\n",
       "      <td>True</td>\n",
       "      <td>0</td>\n",
       "      <td>1</td>\n",
       "    </tr>\n",
       "    <tr>\n",
       "      <th>20773</th>\n",
       "      <td>8e1f3b8a-ff3b-4712-ad5d-7cb3e3f1271c</td>\n",
       "      <td>Pacoti - CE</td>\n",
       "      <td>Coordenação de Equipe</td>\n",
       "      <td>21/2/2024</td>\n",
       "      <td>17/4/2024</td>\n",
       "      <td>True</td>\n",
       "      <td>0</td>\n",
       "      <td>0</td>\n",
       "    </tr>\n",
       "    <tr>\n",
       "      <th>20774</th>\n",
       "      <td>8e1f3b8a-ff3b-4712-ad5d-7cb3e3f1271c</td>\n",
       "      <td>Pacoti - CE</td>\n",
       "      <td>Coordenação de Equipe</td>\n",
       "      <td>21/2/2024</td>\n",
       "      <td>28/8/2024</td>\n",
       "      <td>True</td>\n",
       "      <td>0</td>\n",
       "      <td>0</td>\n",
       "    </tr>\n",
       "    <tr>\n",
       "      <th>20775</th>\n",
       "      <td>8e1f3b8a-ff3b-4712-ad5d-7cb3e3f1271c</td>\n",
       "      <td>Pacoti - CE</td>\n",
       "      <td>Coordenação de Equipe</td>\n",
       "      <td>21/2/2024</td>\n",
       "      <td>4/11/2024</td>\n",
       "      <td>True</td>\n",
       "      <td>0</td>\n",
       "      <td>1</td>\n",
       "    </tr>\n",
       "    <tr>\n",
       "      <th>20776</th>\n",
       "      <td>8e1f3b8a-ff3b-4712-ad5d-7cb3e3f1271c</td>\n",
       "      <td>Pacoti - CE</td>\n",
       "      <td>Coordenação de Equipe</td>\n",
       "      <td>21/2/2024</td>\n",
       "      <td>14/5/2024</td>\n",
       "      <td>True</td>\n",
       "      <td>0</td>\n",
       "      <td>0</td>\n",
       "    </tr>\n",
       "  </tbody>\n",
       "</table>\n",
       "</div>"
      ],
      "text/plain": [
       "                                 usuario_id    municipio  \\\n",
       "20772  8e1f3b8a-ff3b-4712-ad5d-7cb3e3f1271c  Pacoti - CE   \n",
       "20773  8e1f3b8a-ff3b-4712-ad5d-7cb3e3f1271c  Pacoti - CE   \n",
       "20774  8e1f3b8a-ff3b-4712-ad5d-7cb3e3f1271c  Pacoti - CE   \n",
       "20775  8e1f3b8a-ff3b-4712-ad5d-7cb3e3f1271c  Pacoti - CE   \n",
       "20776  8e1f3b8a-ff3b-4712-ad5d-7cb3e3f1271c  Pacoti - CE   \n",
       "\n",
       "                       cargo data_criacao_cadastro data_ativo  \\\n",
       "20772  Coordenação de Equipe             21/2/2024  15/4/2024   \n",
       "20773  Coordenação de Equipe             21/2/2024  17/4/2024   \n",
       "20774  Coordenação de Equipe             21/2/2024  28/8/2024   \n",
       "20775  Coordenação de Equipe             21/2/2024  4/11/2024   \n",
       "20776  Coordenação de Equipe             21/2/2024  14/5/2024   \n",
       "\n",
       "       acessou_listas_nominais  clicks_imprimir_lista  clicks_filtrar_lista  \n",
       "20772                     True                      0                     1  \n",
       "20773                     True                      0                     0  \n",
       "20774                     True                      0                     0  \n",
       "20775                     True                      0                     1  \n",
       "20776                     True                      0                     0  "
      ]
     },
     "execution_count": 164,
     "metadata": {},
     "output_type": "execute_result"
    }
   ],
   "source": [
    "merged_bases.tail()"
   ]
  },
  {
   "cell_type": "code",
   "execution_count": 165,
   "id": "8ebf09e4-7c6a-4621-bc1a-dbaea98a8bbc",
   "metadata": {},
   "outputs": [
    {
     "data": {
      "text/html": [
       "<div>\n",
       "<style scoped>\n",
       "    .dataframe tbody tr th:only-of-type {\n",
       "        vertical-align: middle;\n",
       "    }\n",
       "\n",
       "    .dataframe tbody tr th {\n",
       "        vertical-align: top;\n",
       "    }\n",
       "\n",
       "    .dataframe thead th {\n",
       "        text-align: right;\n",
       "    }\n",
       "</style>\n",
       "<table border=\"1\" class=\"dataframe\">\n",
       "  <thead>\n",
       "    <tr style=\"text-align: right;\">\n",
       "      <th></th>\n",
       "      <th>usuario_id</th>\n",
       "      <th>municipio</th>\n",
       "      <th>cargo</th>\n",
       "      <th>data_criacao_cadastro</th>\n",
       "      <th>data_ativo</th>\n",
       "      <th>acessou_listas_nominais</th>\n",
       "      <th>clicks_imprimir_lista</th>\n",
       "      <th>clicks_filtrar_lista</th>\n",
       "    </tr>\n",
       "  </thead>\n",
       "  <tbody>\n",
       "    <tr>\n",
       "      <th>0</th>\n",
       "      <td>a034d9fc-d54a-4a89-bdef-2e596af3a856</td>\n",
       "      <td>São Roque - SP</td>\n",
       "      <td>Coordenação de Equipe</td>\n",
       "      <td>23/3/2023</td>\n",
       "      <td>11/8/2023</td>\n",
       "      <td>True</td>\n",
       "      <td>0</td>\n",
       "      <td>0</td>\n",
       "    </tr>\n",
       "    <tr>\n",
       "      <th>1</th>\n",
       "      <td>a034d9fc-d54a-4a89-bdef-2e596af3a856</td>\n",
       "      <td>São Roque - SP</td>\n",
       "      <td>Coordenação de Equipe</td>\n",
       "      <td>23/3/2023</td>\n",
       "      <td>14/2/2024</td>\n",
       "      <td>True</td>\n",
       "      <td>0</td>\n",
       "      <td>2</td>\n",
       "    </tr>\n",
       "    <tr>\n",
       "      <th>2</th>\n",
       "      <td>a034d9fc-d54a-4a89-bdef-2e596af3a856</td>\n",
       "      <td>São Roque - SP</td>\n",
       "      <td>Coordenação de Equipe</td>\n",
       "      <td>23/3/2023</td>\n",
       "      <td>13/12/2023</td>\n",
       "      <td>True</td>\n",
       "      <td>0</td>\n",
       "      <td>0</td>\n",
       "    </tr>\n",
       "    <tr>\n",
       "      <th>3</th>\n",
       "      <td>a034d9fc-d54a-4a89-bdef-2e596af3a856</td>\n",
       "      <td>São Roque - SP</td>\n",
       "      <td>Coordenação de Equipe</td>\n",
       "      <td>23/3/2023</td>\n",
       "      <td>5/9/2023</td>\n",
       "      <td>True</td>\n",
       "      <td>0</td>\n",
       "      <td>0</td>\n",
       "    </tr>\n",
       "    <tr>\n",
       "      <th>4</th>\n",
       "      <td>a034d9fc-d54a-4a89-bdef-2e596af3a856</td>\n",
       "      <td>São Roque - SP</td>\n",
       "      <td>Coordenação de Equipe</td>\n",
       "      <td>23/3/2023</td>\n",
       "      <td>23/11/2023</td>\n",
       "      <td>True</td>\n",
       "      <td>0</td>\n",
       "      <td>0</td>\n",
       "    </tr>\n",
       "    <tr>\n",
       "      <th>...</th>\n",
       "      <td>...</td>\n",
       "      <td>...</td>\n",
       "      <td>...</td>\n",
       "      <td>...</td>\n",
       "      <td>...</td>\n",
       "      <td>...</td>\n",
       "      <td>...</td>\n",
       "      <td>...</td>\n",
       "    </tr>\n",
       "    <tr>\n",
       "      <th>20772</th>\n",
       "      <td>8e1f3b8a-ff3b-4712-ad5d-7cb3e3f1271c</td>\n",
       "      <td>Pacoti - CE</td>\n",
       "      <td>Coordenação de Equipe</td>\n",
       "      <td>21/2/2024</td>\n",
       "      <td>15/4/2024</td>\n",
       "      <td>True</td>\n",
       "      <td>0</td>\n",
       "      <td>1</td>\n",
       "    </tr>\n",
       "    <tr>\n",
       "      <th>20773</th>\n",
       "      <td>8e1f3b8a-ff3b-4712-ad5d-7cb3e3f1271c</td>\n",
       "      <td>Pacoti - CE</td>\n",
       "      <td>Coordenação de Equipe</td>\n",
       "      <td>21/2/2024</td>\n",
       "      <td>17/4/2024</td>\n",
       "      <td>True</td>\n",
       "      <td>0</td>\n",
       "      <td>0</td>\n",
       "    </tr>\n",
       "    <tr>\n",
       "      <th>20774</th>\n",
       "      <td>8e1f3b8a-ff3b-4712-ad5d-7cb3e3f1271c</td>\n",
       "      <td>Pacoti - CE</td>\n",
       "      <td>Coordenação de Equipe</td>\n",
       "      <td>21/2/2024</td>\n",
       "      <td>28/8/2024</td>\n",
       "      <td>True</td>\n",
       "      <td>0</td>\n",
       "      <td>0</td>\n",
       "    </tr>\n",
       "    <tr>\n",
       "      <th>20775</th>\n",
       "      <td>8e1f3b8a-ff3b-4712-ad5d-7cb3e3f1271c</td>\n",
       "      <td>Pacoti - CE</td>\n",
       "      <td>Coordenação de Equipe</td>\n",
       "      <td>21/2/2024</td>\n",
       "      <td>4/11/2024</td>\n",
       "      <td>True</td>\n",
       "      <td>0</td>\n",
       "      <td>1</td>\n",
       "    </tr>\n",
       "    <tr>\n",
       "      <th>20776</th>\n",
       "      <td>8e1f3b8a-ff3b-4712-ad5d-7cb3e3f1271c</td>\n",
       "      <td>Pacoti - CE</td>\n",
       "      <td>Coordenação de Equipe</td>\n",
       "      <td>21/2/2024</td>\n",
       "      <td>14/5/2024</td>\n",
       "      <td>True</td>\n",
       "      <td>0</td>\n",
       "      <td>0</td>\n",
       "    </tr>\n",
       "  </tbody>\n",
       "</table>\n",
       "<p>18763 rows × 8 columns</p>\n",
       "</div>"
      ],
      "text/plain": [
       "                                 usuario_id       municipio  \\\n",
       "0      a034d9fc-d54a-4a89-bdef-2e596af3a856  São Roque - SP   \n",
       "1      a034d9fc-d54a-4a89-bdef-2e596af3a856  São Roque - SP   \n",
       "2      a034d9fc-d54a-4a89-bdef-2e596af3a856  São Roque - SP   \n",
       "3      a034d9fc-d54a-4a89-bdef-2e596af3a856  São Roque - SP   \n",
       "4      a034d9fc-d54a-4a89-bdef-2e596af3a856  São Roque - SP   \n",
       "...                                     ...             ...   \n",
       "20772  8e1f3b8a-ff3b-4712-ad5d-7cb3e3f1271c     Pacoti - CE   \n",
       "20773  8e1f3b8a-ff3b-4712-ad5d-7cb3e3f1271c     Pacoti - CE   \n",
       "20774  8e1f3b8a-ff3b-4712-ad5d-7cb3e3f1271c     Pacoti - CE   \n",
       "20775  8e1f3b8a-ff3b-4712-ad5d-7cb3e3f1271c     Pacoti - CE   \n",
       "20776  8e1f3b8a-ff3b-4712-ad5d-7cb3e3f1271c     Pacoti - CE   \n",
       "\n",
       "                       cargo data_criacao_cadastro  data_ativo  \\\n",
       "0      Coordenação de Equipe             23/3/2023   11/8/2023   \n",
       "1      Coordenação de Equipe             23/3/2023   14/2/2024   \n",
       "2      Coordenação de Equipe             23/3/2023  13/12/2023   \n",
       "3      Coordenação de Equipe             23/3/2023    5/9/2023   \n",
       "4      Coordenação de Equipe             23/3/2023  23/11/2023   \n",
       "...                      ...                   ...         ...   \n",
       "20772  Coordenação de Equipe             21/2/2024   15/4/2024   \n",
       "20773  Coordenação de Equipe             21/2/2024   17/4/2024   \n",
       "20774  Coordenação de Equipe             21/2/2024   28/8/2024   \n",
       "20775  Coordenação de Equipe             21/2/2024   4/11/2024   \n",
       "20776  Coordenação de Equipe             21/2/2024   14/5/2024   \n",
       "\n",
       "       acessou_listas_nominais  clicks_imprimir_lista  clicks_filtrar_lista  \n",
       "0                         True                      0                     0  \n",
       "1                         True                      0                     2  \n",
       "2                         True                      0                     0  \n",
       "3                         True                      0                     0  \n",
       "4                         True                      0                     0  \n",
       "...                        ...                    ...                   ...  \n",
       "20772                     True                      0                     1  \n",
       "20773                     True                      0                     0  \n",
       "20774                     True                      0                     0  \n",
       "20775                     True                      0                     1  \n",
       "20776                     True                      0                     0  \n",
       "\n",
       "[18763 rows x 8 columns]"
      ]
     },
     "execution_count": 165,
     "metadata": {},
     "output_type": "execute_result"
    }
   ],
   "source": [
    "merged_bases.loc[merged_bases['acessou_listas_nominais'] == bool('True')]"
   ]
  },
  {
   "cell_type": "markdown",
   "id": "e28962bf-a194-48b9-91a5-21b34794d753",
   "metadata": {},
   "source": [
    "Visando realizar a verificação futura dos dados do tipo \"data\", fizemos a conversão das variáveis do tipo data para o formato date, seguindo os comandos abaixo.  \n",
    "\n",
    "O comando *pd.to_datetime()* foi utilizado para converter as variáveis data_criacao_Cadastro e data_ativo para o formato data, e utilizamos o parâmetro dayfirst=True, para estabelecer que desejamos o padrão Ano/Mês/Dia (yyyy/mm/dd)."
   ]
  },
  {
   "cell_type": "code",
   "execution_count": 166,
   "id": "1bc6cafa-a328-40ee-be58-45c4c63aa8eb",
   "metadata": {},
   "outputs": [],
   "source": [
    "merged_bases['data_criacao_cadastro'] = pd.to_datetime(merged_bases['data_criacao_cadastro'], dayfirst=True)\n",
    "merged_bases['data_ativo'] = pd.to_datetime(merged_bases['data_ativo'], dayfirst=True)"
   ]
  },
  {
   "cell_type": "code",
   "execution_count": 28,
   "id": "a22e538a-866f-4c8b-8e3a-174ca9d662fd",
   "metadata": {},
   "outputs": [
    {
     "data": {
      "text/html": [
       "<div>\n",
       "<style scoped>\n",
       "    .dataframe tbody tr th:only-of-type {\n",
       "        vertical-align: middle;\n",
       "    }\n",
       "\n",
       "    .dataframe tbody tr th {\n",
       "        vertical-align: top;\n",
       "    }\n",
       "\n",
       "    .dataframe thead th {\n",
       "        text-align: right;\n",
       "    }\n",
       "</style>\n",
       "<table border=\"1\" class=\"dataframe\">\n",
       "  <thead>\n",
       "    <tr style=\"text-align: right;\">\n",
       "      <th></th>\n",
       "      <th>usuario_id</th>\n",
       "      <th>municipio</th>\n",
       "      <th>cargo</th>\n",
       "      <th>data_criacao_cadastro</th>\n",
       "      <th>data_ativo</th>\n",
       "      <th>acessou_listas_nominais</th>\n",
       "      <th>clicks_imprimir_lista</th>\n",
       "      <th>clicks_filtrar_lista</th>\n",
       "    </tr>\n",
       "  </thead>\n",
       "  <tbody>\n",
       "    <tr>\n",
       "      <th>0</th>\n",
       "      <td>a034d9fc-d54a-4a89-bdef-2e596af3a856</td>\n",
       "      <td>São Roque - SP</td>\n",
       "      <td>Coordenação de Equipe</td>\n",
       "      <td>2023-03-23</td>\n",
       "      <td>2023-08-11</td>\n",
       "      <td>True</td>\n",
       "      <td>0</td>\n",
       "      <td>0</td>\n",
       "    </tr>\n",
       "    <tr>\n",
       "      <th>1</th>\n",
       "      <td>a034d9fc-d54a-4a89-bdef-2e596af3a856</td>\n",
       "      <td>São Roque - SP</td>\n",
       "      <td>Coordenação de Equipe</td>\n",
       "      <td>2023-03-23</td>\n",
       "      <td>2024-02-14</td>\n",
       "      <td>True</td>\n",
       "      <td>0</td>\n",
       "      <td>2</td>\n",
       "    </tr>\n",
       "    <tr>\n",
       "      <th>2</th>\n",
       "      <td>a034d9fc-d54a-4a89-bdef-2e596af3a856</td>\n",
       "      <td>São Roque - SP</td>\n",
       "      <td>Coordenação de Equipe</td>\n",
       "      <td>2023-03-23</td>\n",
       "      <td>2023-12-13</td>\n",
       "      <td>True</td>\n",
       "      <td>0</td>\n",
       "      <td>0</td>\n",
       "    </tr>\n",
       "    <tr>\n",
       "      <th>3</th>\n",
       "      <td>a034d9fc-d54a-4a89-bdef-2e596af3a856</td>\n",
       "      <td>São Roque - SP</td>\n",
       "      <td>Coordenação de Equipe</td>\n",
       "      <td>2023-03-23</td>\n",
       "      <td>2023-09-05</td>\n",
       "      <td>True</td>\n",
       "      <td>0</td>\n",
       "      <td>0</td>\n",
       "    </tr>\n",
       "    <tr>\n",
       "      <th>4</th>\n",
       "      <td>a034d9fc-d54a-4a89-bdef-2e596af3a856</td>\n",
       "      <td>São Roque - SP</td>\n",
       "      <td>Coordenação de Equipe</td>\n",
       "      <td>2023-03-23</td>\n",
       "      <td>2023-11-23</td>\n",
       "      <td>True</td>\n",
       "      <td>0</td>\n",
       "      <td>0</td>\n",
       "    </tr>\n",
       "    <tr>\n",
       "      <th>...</th>\n",
       "      <td>...</td>\n",
       "      <td>...</td>\n",
       "      <td>...</td>\n",
       "      <td>...</td>\n",
       "      <td>...</td>\n",
       "      <td>...</td>\n",
       "      <td>...</td>\n",
       "      <td>...</td>\n",
       "    </tr>\n",
       "    <tr>\n",
       "      <th>20772</th>\n",
       "      <td>8e1f3b8a-ff3b-4712-ad5d-7cb3e3f1271c</td>\n",
       "      <td>Pacoti - CE</td>\n",
       "      <td>Coordenação de Equipe</td>\n",
       "      <td>2024-02-21</td>\n",
       "      <td>2024-04-15</td>\n",
       "      <td>True</td>\n",
       "      <td>0</td>\n",
       "      <td>1</td>\n",
       "    </tr>\n",
       "    <tr>\n",
       "      <th>20773</th>\n",
       "      <td>8e1f3b8a-ff3b-4712-ad5d-7cb3e3f1271c</td>\n",
       "      <td>Pacoti - CE</td>\n",
       "      <td>Coordenação de Equipe</td>\n",
       "      <td>2024-02-21</td>\n",
       "      <td>2024-04-17</td>\n",
       "      <td>True</td>\n",
       "      <td>0</td>\n",
       "      <td>0</td>\n",
       "    </tr>\n",
       "    <tr>\n",
       "      <th>20774</th>\n",
       "      <td>8e1f3b8a-ff3b-4712-ad5d-7cb3e3f1271c</td>\n",
       "      <td>Pacoti - CE</td>\n",
       "      <td>Coordenação de Equipe</td>\n",
       "      <td>2024-02-21</td>\n",
       "      <td>2024-08-28</td>\n",
       "      <td>True</td>\n",
       "      <td>0</td>\n",
       "      <td>0</td>\n",
       "    </tr>\n",
       "    <tr>\n",
       "      <th>20775</th>\n",
       "      <td>8e1f3b8a-ff3b-4712-ad5d-7cb3e3f1271c</td>\n",
       "      <td>Pacoti - CE</td>\n",
       "      <td>Coordenação de Equipe</td>\n",
       "      <td>2024-02-21</td>\n",
       "      <td>2024-11-04</td>\n",
       "      <td>True</td>\n",
       "      <td>0</td>\n",
       "      <td>1</td>\n",
       "    </tr>\n",
       "    <tr>\n",
       "      <th>20776</th>\n",
       "      <td>8e1f3b8a-ff3b-4712-ad5d-7cb3e3f1271c</td>\n",
       "      <td>Pacoti - CE</td>\n",
       "      <td>Coordenação de Equipe</td>\n",
       "      <td>2024-02-21</td>\n",
       "      <td>2024-05-14</td>\n",
       "      <td>True</td>\n",
       "      <td>0</td>\n",
       "      <td>0</td>\n",
       "    </tr>\n",
       "  </tbody>\n",
       "</table>\n",
       "<p>20777 rows × 8 columns</p>\n",
       "</div>"
      ],
      "text/plain": [
       "                                 usuario_id       municipio  \\\n",
       "0      a034d9fc-d54a-4a89-bdef-2e596af3a856  São Roque - SP   \n",
       "1      a034d9fc-d54a-4a89-bdef-2e596af3a856  São Roque - SP   \n",
       "2      a034d9fc-d54a-4a89-bdef-2e596af3a856  São Roque - SP   \n",
       "3      a034d9fc-d54a-4a89-bdef-2e596af3a856  São Roque - SP   \n",
       "4      a034d9fc-d54a-4a89-bdef-2e596af3a856  São Roque - SP   \n",
       "...                                     ...             ...   \n",
       "20772  8e1f3b8a-ff3b-4712-ad5d-7cb3e3f1271c     Pacoti - CE   \n",
       "20773  8e1f3b8a-ff3b-4712-ad5d-7cb3e3f1271c     Pacoti - CE   \n",
       "20774  8e1f3b8a-ff3b-4712-ad5d-7cb3e3f1271c     Pacoti - CE   \n",
       "20775  8e1f3b8a-ff3b-4712-ad5d-7cb3e3f1271c     Pacoti - CE   \n",
       "20776  8e1f3b8a-ff3b-4712-ad5d-7cb3e3f1271c     Pacoti - CE   \n",
       "\n",
       "                       cargo data_criacao_cadastro data_ativo  \\\n",
       "0      Coordenação de Equipe            2023-03-23 2023-08-11   \n",
       "1      Coordenação de Equipe            2023-03-23 2024-02-14   \n",
       "2      Coordenação de Equipe            2023-03-23 2023-12-13   \n",
       "3      Coordenação de Equipe            2023-03-23 2023-09-05   \n",
       "4      Coordenação de Equipe            2023-03-23 2023-11-23   \n",
       "...                      ...                   ...        ...   \n",
       "20772  Coordenação de Equipe            2024-02-21 2024-04-15   \n",
       "20773  Coordenação de Equipe            2024-02-21 2024-04-17   \n",
       "20774  Coordenação de Equipe            2024-02-21 2024-08-28   \n",
       "20775  Coordenação de Equipe            2024-02-21 2024-11-04   \n",
       "20776  Coordenação de Equipe            2024-02-21 2024-05-14   \n",
       "\n",
       "       acessou_listas_nominais  clicks_imprimir_lista  clicks_filtrar_lista  \n",
       "0                         True                      0                     0  \n",
       "1                         True                      0                     2  \n",
       "2                         True                      0                     0  \n",
       "3                         True                      0                     0  \n",
       "4                         True                      0                     0  \n",
       "...                        ...                    ...                   ...  \n",
       "20772                     True                      0                     1  \n",
       "20773                     True                      0                     0  \n",
       "20774                     True                      0                     0  \n",
       "20775                     True                      0                     1  \n",
       "20776                     True                      0                     0  \n",
       "\n",
       "[20777 rows x 8 columns]"
      ]
     },
     "execution_count": 28,
     "metadata": {},
     "output_type": "execute_result"
    }
   ],
   "source": [
    "merged_bases"
   ]
  },
  {
   "cell_type": "code",
   "execution_count": 167,
   "id": "77a767bd-38d7-4fbe-9932-b127935825dd",
   "metadata": {},
   "outputs": [
    {
     "data": {
      "text/html": [
       "<div>\n",
       "<style scoped>\n",
       "    .dataframe tbody tr th:only-of-type {\n",
       "        vertical-align: middle;\n",
       "    }\n",
       "\n",
       "    .dataframe tbody tr th {\n",
       "        vertical-align: top;\n",
       "    }\n",
       "\n",
       "    .dataframe thead th {\n",
       "        text-align: right;\n",
       "    }\n",
       "</style>\n",
       "<table border=\"1\" class=\"dataframe\">\n",
       "  <thead>\n",
       "    <tr style=\"text-align: right;\">\n",
       "      <th></th>\n",
       "      <th>data_criacao_cadastro</th>\n",
       "      <th>data_ativo</th>\n",
       "      <th>clicks_imprimir_lista</th>\n",
       "      <th>clicks_filtrar_lista</th>\n",
       "    </tr>\n",
       "  </thead>\n",
       "  <tbody>\n",
       "    <tr>\n",
       "      <th>count</th>\n",
       "      <td>20777</td>\n",
       "      <td>20777</td>\n",
       "      <td>20777.000000</td>\n",
       "      <td>20777.000000</td>\n",
       "    </tr>\n",
       "    <tr>\n",
       "      <th>mean</th>\n",
       "      <td>2023-06-15 22:54:42.745343744</td>\n",
       "      <td>2024-01-14 16:05:10.497184512</td>\n",
       "      <td>0.465707</td>\n",
       "      <td>0.767435</td>\n",
       "    </tr>\n",
       "    <tr>\n",
       "      <th>min</th>\n",
       "      <td>2022-11-08 00:00:00</td>\n",
       "      <td>2022-11-08 00:00:00</td>\n",
       "      <td>0.000000</td>\n",
       "      <td>0.000000</td>\n",
       "    </tr>\n",
       "    <tr>\n",
       "      <th>25%</th>\n",
       "      <td>2023-03-06 00:00:00</td>\n",
       "      <td>2023-08-24 00:00:00</td>\n",
       "      <td>0.000000</td>\n",
       "      <td>0.000000</td>\n",
       "    </tr>\n",
       "    <tr>\n",
       "      <th>50%</th>\n",
       "      <td>2023-04-04 00:00:00</td>\n",
       "      <td>2024-02-01 00:00:00</td>\n",
       "      <td>0.000000</td>\n",
       "      <td>0.000000</td>\n",
       "    </tr>\n",
       "    <tr>\n",
       "      <th>75%</th>\n",
       "      <td>2023-10-24 00:00:00</td>\n",
       "      <td>2024-05-28 00:00:00</td>\n",
       "      <td>0.000000</td>\n",
       "      <td>0.000000</td>\n",
       "    </tr>\n",
       "    <tr>\n",
       "      <th>max</th>\n",
       "      <td>2024-06-28 00:00:00</td>\n",
       "      <td>2024-11-12 00:00:00</td>\n",
       "      <td>234.000000</td>\n",
       "      <td>249.000000</td>\n",
       "    </tr>\n",
       "    <tr>\n",
       "      <th>std</th>\n",
       "      <td>NaN</td>\n",
       "      <td>NaN</td>\n",
       "      <td>2.866106</td>\n",
       "      <td>4.011021</td>\n",
       "    </tr>\n",
       "  </tbody>\n",
       "</table>\n",
       "</div>"
      ],
      "text/plain": [
       "               data_criacao_cadastro                     data_ativo  \\\n",
       "count                          20777                          20777   \n",
       "mean   2023-06-15 22:54:42.745343744  2024-01-14 16:05:10.497184512   \n",
       "min              2022-11-08 00:00:00            2022-11-08 00:00:00   \n",
       "25%              2023-03-06 00:00:00            2023-08-24 00:00:00   \n",
       "50%              2023-04-04 00:00:00            2024-02-01 00:00:00   \n",
       "75%              2023-10-24 00:00:00            2024-05-28 00:00:00   \n",
       "max              2024-06-28 00:00:00            2024-11-12 00:00:00   \n",
       "std                              NaN                            NaN   \n",
       "\n",
       "       clicks_imprimir_lista  clicks_filtrar_lista  \n",
       "count           20777.000000          20777.000000  \n",
       "mean                0.465707              0.767435  \n",
       "min                 0.000000              0.000000  \n",
       "25%                 0.000000              0.000000  \n",
       "50%                 0.000000              0.000000  \n",
       "75%                 0.000000              0.000000  \n",
       "max               234.000000            249.000000  \n",
       "std                 2.866106              4.011021  "
      ]
     },
     "execution_count": 167,
     "metadata": {},
     "output_type": "execute_result"
    }
   ],
   "source": [
    "merged_bases.describe()"
   ]
  },
  {
   "cell_type": "markdown",
   "id": "d65abcc6-6038-4433-a37c-ce0e542eb289",
   "metadata": {},
   "source": [
    "Ao final do tratamento, realizamos o salvamento da base unida para possíveis finalidades futuras, utilizando o comando\n",
    "*df.to_parquet()*, o salvamento em formato parquet foi feito visando a otimização do volume de dados. \n",
    "\n",
    "Para mais informações sobre o formato parquet: https://parquet.apache.org/docs/"
   ]
  },
  {
   "cell_type": "code",
   "execution_count": 168,
   "id": "138d635e-039e-4b1a-b61e-11073e2a6963",
   "metadata": {},
   "outputs": [],
   "source": [
    "merged_bases.to_parquet('merged_dataset/merged_datasets_registry_days_of_access',compression='gzip')"
   ]
  },
  {
   "cell_type": "markdown",
   "id": "949779bd-8fdd-4ffd-b2d6-586349ba2577",
   "metadata": {},
   "source": [
    "# Analytics "
   ]
  },
  {
   "cell_type": "markdown",
   "id": "8e44cde4-efaf-46ad-a436-2ad9e2da3070",
   "metadata": {},
   "source": [
    "## 1 Análise da taxa de primeiro acesso às listas nominais\n",
    "\n",
    "Para a análise da taxa de primeiro acesso às listas nominais, utilizamos o código abaixo, o qual consiste em: \n",
    "\n",
    "* Obtenção dos usuários totais e distintos presentes na base de dados unida.\n",
    "* Filtragem dos usuários que possuem status de acesso \"verdadeiro\".\n",
    "* Cálculo da taxa.\n",
    "\n",
    "O cálculo da taxa se dá, ao dividirmos o montante de usuários que acessou a base pela quantidade total de usuários distintos na base e multiplicarmos o resultado por cem (visto que objetivamos um valor do tipo taxa).   \n",
    "\n",
    "Como resultado, percebemos a **taxa de acesso expressivamente alta, aproximadamente: 98.260**, o que indica alta adesão inicial à ferramenta. "
   ]
  },
  {
   "cell_type": "code",
   "execution_count": 169,
   "id": "84cac1df-dbb1-4bc4-9509-73ee18813e90",
   "metadata": {},
   "outputs": [
    {
     "data": {
      "text/plain": [
       "98.26086956521739"
      ]
     },
     "execution_count": 169,
     "metadata": {},
     "output_type": "execute_result"
    }
   ],
   "source": [
    "total_users = merged_bases['usuario_id'].nunique()\n",
    "users_accessed = merged_bases[merged_bases['acessou_listas_nominais'] == True]['usuario_id'].nunique()\n",
    "access_rate = (users_accessed / total_users) * 100\n",
    "\n",
    "access_rate"
   ]
  },
  {
   "cell_type": "markdown",
   "id": "19ae0e9f-89df-435c-85cb-2b632839e120",
   "metadata": {},
   "source": [
    "# 2 - Análise da atividade entre os diferentes perfis profissionais de usuários.  \n",
    "\n",
    "##  Descrição do método para a análise\n",
    "Para esta análise foi necessário o agrupamento dos dados por tipo de profissão, dado presente na variável \"cargo\". \n",
    "Realizamos agregação do tipo soma, e do tipo média para os dados inerentes a quantidade de cliques para imprimir listas e para filtrar listas. \n",
    "\n",
    "Com isso, obtemos um conjunto de dados agregado, contemplando os dados: \n",
    "\n",
    "* tipo de cargo\n",
    "* quantidade de usuários distintos por tipo de cargo\n",
    "* quantidade de cliques para filtrar lista\n",
    "* quantidade de cliques para imprimir lista. \n",
    "\n",
    "## Descrição dos resultados obtidos \n",
    "\n",
    "Os resultados indicam maior uso bruto por usuários em cargos de \"coordenação de equipe\", porém, é importante ressaltar que estes usuários são mais numerosos na base de dados, isto fica evidente ao compararmos o número de usuários distintos entre os cargos, onde temos 100 usuários com cargo do tipo coordenação APS, contra 475 usuários do tipo coordenação Equipe.\n",
    "\n",
    "Um fato interessante é que ambos os grupos de usuários clicam mais no botão de filtro em detrimento do botão de impressão, isto se mostra \n",
    "evidente, visto que dado o perfil analítico das duas posições, a inserção de filtros pode ser valiosa, além de exaltar o bom funcionamento visual da ferramenta.\n",
    "\n",
    "\n",
    "**Analisando os dados brutos** (agreagdos de acordo com a soma), podemos afirmar maior engajamento total para os usuários de coordenação de quipe: \n",
    "\n",
    "* Coordenação APS: 9345 cliques totais\n",
    "* Coordenação de equipes: 16276  cliques totais\n",
    "  \n",
    "\n",
    "**Analisando os dados refinados** (agregados de acordo coma  média), podemos afirmar maior engajamento total para os usuários coordenadores de APS, visto que a média leva em conta a discrepância entre a quantidade de usuários para cada grupo. \n",
    "\n",
    "* Coordenação APS:\tmédia de cliques para imprimir(0.869018) e média de cliques para filtrar (2.073363)\n",
    "* Coordenação de Equipe: média de cliques para imprimir (0.392932)\te média de cliques para filtrar (0.531788)\n",
    "\n",
    "Os resultados refinados são corroborados pelos dados proporcionais, ao analisarmos os dados em proporção, podemos inferir que há maior engajamento para os usuários coordenadores APS, isto se dá, justamente por haver quantidade expressivamente menor destes usuários na base de dados: \n",
    "\n",
    "* 93.45 % dos usuários do tipo coordenação APS. \n",
    "* 34.26% dos usuários do tipo coorednadores de equipes.\n",
    "\n",
    "\n",
    "\n",
    "**PS**: É importante saber que a quantidade de cliques se mostra uma métrica positiva ao tratarmos dos cliques diretamente no botão referente ao processo de impressão ou filtragem. \n",
    "Abordagens em relação a quantidade de cliques podem, também, trazer evidências de dificuldade de uso de uma determinada ferramenta, onde muitos cliques em diferentes regiões da tela podem indicar baixa compreensão do funcionamento da plataforma."
   ]
  },
  {
   "cell_type": "code",
   "execution_count": 170,
   "id": "ebb0326d-a737-4160-a5a3-2e5697007cbf",
   "metadata": {},
   "outputs": [],
   "source": [
    "activity_by_cargo = merged_bases.groupby('cargo').agg(\n",
    "    total_clicks_imprimir=('clicks_imprimir_lista', 'sum'),\n",
    "    total_clicks_filtrar=('clicks_filtrar_lista', 'sum'),\n",
    "    unique_users=('usuario_id', 'nunique')\n",
    ").reset_index()"
   ]
  },
  {
   "cell_type": "code",
   "execution_count": 171,
   "id": "2b8e4dc9-afc5-4019-abb0-54c3b3be2b0e",
   "metadata": {},
   "outputs": [],
   "source": [
    "activity_by_cargo['total_engagement'] = activity_by_cargo['total_clicks_imprimir'] + activity_by_cargo['total_clicks_filtrar']\n",
    "activity_by_cargo_sorted = activity_by_cargo.sort_values('total_engagement', ascending=False)  \n",
    "activity_by_cargo['proportion'] = (activity_by_cargo['total_engagement']/activity_by_cargo['unique_users'])"
   ]
  },
  {
   "cell_type": "code",
   "execution_count": 172,
   "id": "df121346-a955-4a44-ab66-128ebecef606",
   "metadata": {},
   "outputs": [
    {
     "data": {
      "text/html": [
       "<div>\n",
       "<style scoped>\n",
       "    .dataframe tbody tr th:only-of-type {\n",
       "        vertical-align: middle;\n",
       "    }\n",
       "\n",
       "    .dataframe tbody tr th {\n",
       "        vertical-align: top;\n",
       "    }\n",
       "\n",
       "    .dataframe thead th {\n",
       "        text-align: right;\n",
       "    }\n",
       "</style>\n",
       "<table border=\"1\" class=\"dataframe\">\n",
       "  <thead>\n",
       "    <tr style=\"text-align: right;\">\n",
       "      <th></th>\n",
       "      <th>cargo</th>\n",
       "      <th>total_clicks_imprimir</th>\n",
       "      <th>total_clicks_filtrar</th>\n",
       "      <th>unique_users</th>\n",
       "      <th>total_engagement</th>\n",
       "      <th>proportion</th>\n",
       "    </tr>\n",
       "  </thead>\n",
       "  <tbody>\n",
       "    <tr>\n",
       "      <th>0</th>\n",
       "      <td>Coordenação APS</td>\n",
       "      <td>2760</td>\n",
       "      <td>6585</td>\n",
       "      <td>100</td>\n",
       "      <td>9345</td>\n",
       "      <td>93.450000</td>\n",
       "    </tr>\n",
       "    <tr>\n",
       "      <th>1</th>\n",
       "      <td>Coordenação de Equipe</td>\n",
       "      <td>6916</td>\n",
       "      <td>9360</td>\n",
       "      <td>475</td>\n",
       "      <td>16276</td>\n",
       "      <td>34.265263</td>\n",
       "    </tr>\n",
       "  </tbody>\n",
       "</table>\n",
       "</div>"
      ],
      "text/plain": [
       "                   cargo  total_clicks_imprimir  total_clicks_filtrar  \\\n",
       "0        Coordenação APS                   2760                  6585   \n",
       "1  Coordenação de Equipe                   6916                  9360   \n",
       "\n",
       "   unique_users  total_engagement  proportion  \n",
       "0           100              9345   93.450000  \n",
       "1           475             16276   34.265263  "
      ]
     },
     "execution_count": 172,
     "metadata": {},
     "output_type": "execute_result"
    }
   ],
   "source": [
    "activity_by_cargo"
   ]
  },
  {
   "cell_type": "code",
   "execution_count": 173,
   "id": "e8043305-33bc-47ad-9c16-2fee090ae9e7",
   "metadata": {},
   "outputs": [],
   "source": [
    "activity_by_cargo_refined = merged_bases.groupby('cargo').agg(\n",
    "    avg_clicks_imprimir=('clicks_imprimir_lista', 'mean'),\n",
    "    avg_clicks_filtrar=('clicks_filtrar_lista', 'mean'),\n",
    "    unique_users=('usuario_id', 'nunique')\n",
    ").reset_index()"
   ]
  },
  {
   "cell_type": "code",
   "execution_count": 174,
   "id": "120a1818-124f-43cd-8957-aeec489b0a2b",
   "metadata": {},
   "outputs": [
    {
     "data": {
      "text/html": [
       "<div>\n",
       "<style scoped>\n",
       "    .dataframe tbody tr th:only-of-type {\n",
       "        vertical-align: middle;\n",
       "    }\n",
       "\n",
       "    .dataframe tbody tr th {\n",
       "        vertical-align: top;\n",
       "    }\n",
       "\n",
       "    .dataframe thead th {\n",
       "        text-align: right;\n",
       "    }\n",
       "</style>\n",
       "<table border=\"1\" class=\"dataframe\">\n",
       "  <thead>\n",
       "    <tr style=\"text-align: right;\">\n",
       "      <th></th>\n",
       "      <th>cargo</th>\n",
       "      <th>avg_clicks_imprimir</th>\n",
       "      <th>avg_clicks_filtrar</th>\n",
       "      <th>unique_users</th>\n",
       "    </tr>\n",
       "  </thead>\n",
       "  <tbody>\n",
       "    <tr>\n",
       "      <th>0</th>\n",
       "      <td>Coordenação APS</td>\n",
       "      <td>0.869018</td>\n",
       "      <td>2.073363</td>\n",
       "      <td>100</td>\n",
       "    </tr>\n",
       "    <tr>\n",
       "      <th>1</th>\n",
       "      <td>Coordenação de Equipe</td>\n",
       "      <td>0.392932</td>\n",
       "      <td>0.531788</td>\n",
       "      <td>475</td>\n",
       "    </tr>\n",
       "  </tbody>\n",
       "</table>\n",
       "</div>"
      ],
      "text/plain": [
       "                   cargo  avg_clicks_imprimir  avg_clicks_filtrar  \\\n",
       "0        Coordenação APS             0.869018            2.073363   \n",
       "1  Coordenação de Equipe             0.392932            0.531788   \n",
       "\n",
       "   unique_users  \n",
       "0           100  \n",
       "1           475  "
      ]
     },
     "execution_count": 174,
     "metadata": {},
     "output_type": "execute_result"
    }
   ],
   "source": [
    "activity_by_cargo_refined"
   ]
  },
  {
   "cell_type": "code",
   "execution_count": 175,
   "id": "62139d9f-5f67-4444-9a35-2870e7c0dcb9",
   "metadata": {},
   "outputs": [
    {
     "data": {
      "text/html": [
       "<div>\n",
       "<style scoped>\n",
       "    .dataframe tbody tr th:only-of-type {\n",
       "        vertical-align: middle;\n",
       "    }\n",
       "\n",
       "    .dataframe tbody tr th {\n",
       "        vertical-align: top;\n",
       "    }\n",
       "\n",
       "    .dataframe thead th {\n",
       "        text-align: right;\n",
       "    }\n",
       "</style>\n",
       "<table border=\"1\" class=\"dataframe\">\n",
       "  <thead>\n",
       "    <tr style=\"text-align: right;\">\n",
       "      <th></th>\n",
       "      <th>cargo</th>\n",
       "      <th>total_clicks_imprimir</th>\n",
       "      <th>total_clicks_filtrar</th>\n",
       "      <th>unique_users</th>\n",
       "      <th>total_engagement</th>\n",
       "      <th>proportion</th>\n",
       "    </tr>\n",
       "  </thead>\n",
       "  <tbody>\n",
       "    <tr>\n",
       "      <th>0</th>\n",
       "      <td>Coordenação APS</td>\n",
       "      <td>2760</td>\n",
       "      <td>6585</td>\n",
       "      <td>100</td>\n",
       "      <td>9345</td>\n",
       "      <td>93.450000</td>\n",
       "    </tr>\n",
       "    <tr>\n",
       "      <th>1</th>\n",
       "      <td>Coordenação de Equipe</td>\n",
       "      <td>6916</td>\n",
       "      <td>9360</td>\n",
       "      <td>475</td>\n",
       "      <td>16276</td>\n",
       "      <td>34.265263</td>\n",
       "    </tr>\n",
       "  </tbody>\n",
       "</table>\n",
       "</div>"
      ],
      "text/plain": [
       "                   cargo  total_clicks_imprimir  total_clicks_filtrar  \\\n",
       "0        Coordenação APS                   2760                  6585   \n",
       "1  Coordenação de Equipe                   6916                  9360   \n",
       "\n",
       "   unique_users  total_engagement  proportion  \n",
       "0           100              9345   93.450000  \n",
       "1           475             16276   34.265263  "
      ]
     },
     "execution_count": 175,
     "metadata": {},
     "output_type": "execute_result"
    }
   ],
   "source": [
    "activity_by_cargo"
   ]
  },
  {
   "cell_type": "markdown",
   "id": "39b1da4b-d43a-45c8-862a-5036b1db3d14",
   "metadata": {},
   "source": [
    "## **Gráfico bruto**"
   ]
  },
  {
   "cell_type": "code",
   "execution_count": 176,
   "id": "6e03470c-fbe7-472d-aa27-0a3f5ae3863d",
   "metadata": {},
   "outputs": [
    {
     "data": {
      "text/plain": [
       "Text(0, 0.5, 'Total de engajamento')"
      ]
     },
     "execution_count": 176,
     "metadata": {},
     "output_type": "execute_result"
    },
    {
     "data": {
      "image/png": "[encoded data removed]",
      "text/plain": [
       "<Figure size 640x480 with 1 Axes>"
      ]
     },
     "metadata": {},
     "output_type": "display_data"
    }
   ],
   "source": [
    "sns.barplot(activity_by_cargo, x='cargo', y='total_engagement', hue='cargo')\n",
    "plt.title('Total de engajamento (cliques)')\n",
    "plt.xlabel('Cargo')\n",
    "plt.ylabel('Total de engajamento')"
   ]
  },
  {
   "cell_type": "markdown",
   "id": "5bb23971-7d1f-4dd7-89c0-64e92ac7d570",
   "metadata": {},
   "source": [
    "## **Gráfico proporcional**"
   ]
  },
  {
   "cell_type": "code",
   "execution_count": 177,
   "id": "cf5a3a49-8937-476d-81b1-dfb5a3d0e0ac",
   "metadata": {},
   "outputs": [
    {
     "data": {
      "text/plain": [
       "Text(0, 0.5, 'Proporção')"
      ]
     },
     "execution_count": 177,
     "metadata": {},
     "output_type": "execute_result"
    },
    {
     "data": {
      "image/png": "[encoded data removed]",
      "text/plain": [
       "<Figure size 640x480 with 1 Axes>"
      ]
     },
     "metadata": {},
     "output_type": "display_data"
    }
   ],
   "source": [
    "sns.barplot(activity_by_cargo, x='cargo', y='proportion', hue='cargo')\n",
    "plt.title('Egajamento proporcional')\n",
    "plt.xlabel('Cargo')\n",
    "plt.ylabel('Proporção')"
   ]
  },
  {
   "cell_type": "markdown",
   "id": "a18acc68-d2f4-433d-a1e0-a9be7e7d9843",
   "metadata": {},
   "source": [
    "geração de gráfico de barras para comparação da quantidade de cliques entre perfis de usuários."
   ]
  },
  {
   "cell_type": "markdown",
   "id": "cd84e972-d4ff-433e-a02c-4de54990d0f5",
   "metadata": {},
   "source": [
    "# 3 - Padrões de uso individualizados por usuário.  \n",
    "\n",
    "Para esta análise foi necessário o agrupamento dos dados por usuário, dado presente na variável \"usuario_id\". \n",
    "\n",
    "Além disso, foi necessário realizar a agregação do tipo soma, dos dados inerentes ao acesso as listas nominais, quantidade de cliques para imprimir listas e para filtrar listas. \n",
    "\n",
    "Com isso, obtemos um conjunto de dados agregado, contemplando os dados: \n",
    "\n",
    "* usuário.\n",
    "* quantidade de acessos.\n",
    "* quantidade de cliques para filtrar lista.\n",
    "* quantidade de cliques para imprimir lista.\n",
    "\n",
    "De maneira óbvia, percebemos que os usuários tendem a cliar mais nos filtros do que nas impressões, visto que a aplicação de filtros é fundamental nos processos analíticos. Temos os seguintes resultados: \n",
    "\n",
    "* 9676 cliques para impressão.\n",
    "* 15945 cliques para filtros.\n",
    "\n",
    "Os resultados acima podem indicar a usabilidade da plataforma sem a necessidade de impressão dos relatórios, demonstrando a alta capacidade de visualização presente no portal. Outros fatores precisam estar unidos para a verificação mais acurada destes dados, um destes pode ser o tempo de uso total por sessão logada."
   ]
  },
  {
   "cell_type": "code",
   "execution_count": 178,
   "id": "c22e9f02-226f-48b0-8202-ccd2932bab96",
   "metadata": {},
   "outputs": [],
   "source": [
    "usage_patterns = merged_bases.groupby('usuario_id').agg(\n",
    "    total_accesses=('acessou_listas_nominais', 'sum'),\n",
    "    total_clicks_imprimir=('clicks_imprimir_lista', 'sum'),\n",
    "    total_clicks_filtrar=('clicks_filtrar_lista', 'sum')\n",
    ").reset_index()"
   ]
  },
  {
   "cell_type": "code",
   "execution_count": 179,
   "id": "a7eb4112-b6ba-4bc5-8749-ca47bfe343c7",
   "metadata": {},
   "outputs": [
    {
     "data": {
      "text/html": [
       "<div>\n",
       "<style scoped>\n",
       "    .dataframe tbody tr th:only-of-type {\n",
       "        vertical-align: middle;\n",
       "    }\n",
       "\n",
       "    .dataframe tbody tr th {\n",
       "        vertical-align: top;\n",
       "    }\n",
       "\n",
       "    .dataframe thead th {\n",
       "        text-align: right;\n",
       "    }\n",
       "</style>\n",
       "<table border=\"1\" class=\"dataframe\">\n",
       "  <thead>\n",
       "    <tr style=\"text-align: right;\">\n",
       "      <th></th>\n",
       "      <th>usuario_id</th>\n",
       "      <th>total_accesses</th>\n",
       "      <th>total_clicks_imprimir</th>\n",
       "      <th>total_clicks_filtrar</th>\n",
       "    </tr>\n",
       "  </thead>\n",
       "  <tbody>\n",
       "    <tr>\n",
       "      <th>0</th>\n",
       "      <td>0077e9df-39d3-41bc-aa57-3953e894bcf9</td>\n",
       "      <td>37</td>\n",
       "      <td>18</td>\n",
       "      <td>55</td>\n",
       "    </tr>\n",
       "    <tr>\n",
       "      <th>1</th>\n",
       "      <td>009a2ef8-ee98-4c4d-b53a-6407abc03715</td>\n",
       "      <td>2</td>\n",
       "      <td>3</td>\n",
       "      <td>0</td>\n",
       "    </tr>\n",
       "    <tr>\n",
       "      <th>2</th>\n",
       "      <td>0103a1d1-96c8-4d98-b263-0549294aff13</td>\n",
       "      <td>5</td>\n",
       "      <td>0</td>\n",
       "      <td>14</td>\n",
       "    </tr>\n",
       "    <tr>\n",
       "      <th>3</th>\n",
       "      <td>013e6d7a-4b86-47a3-972e-4c046dc4903b</td>\n",
       "      <td>97</td>\n",
       "      <td>39</td>\n",
       "      <td>110</td>\n",
       "    </tr>\n",
       "    <tr>\n",
       "      <th>4</th>\n",
       "      <td>021f43b9-c167-44b3-bc42-5420212df999</td>\n",
       "      <td>3</td>\n",
       "      <td>0</td>\n",
       "      <td>0</td>\n",
       "    </tr>\n",
       "    <tr>\n",
       "      <th>...</th>\n",
       "      <td>...</td>\n",
       "      <td>...</td>\n",
       "      <td>...</td>\n",
       "      <td>...</td>\n",
       "    </tr>\n",
       "    <tr>\n",
       "      <th>570</th>\n",
       "      <td>feb83ec6-80af-4e84-a3dd-78a6e94964ef</td>\n",
       "      <td>24</td>\n",
       "      <td>0</td>\n",
       "      <td>0</td>\n",
       "    </tr>\n",
       "    <tr>\n",
       "      <th>571</th>\n",
       "      <td>fed22165-9980-4358-a2cf-11c427109931</td>\n",
       "      <td>8</td>\n",
       "      <td>0</td>\n",
       "      <td>0</td>\n",
       "    </tr>\n",
       "    <tr>\n",
       "      <th>572</th>\n",
       "      <td>fef05bde-262a-4edf-bc6a-dc0ff74ac59e</td>\n",
       "      <td>6</td>\n",
       "      <td>30</td>\n",
       "      <td>22</td>\n",
       "    </tr>\n",
       "    <tr>\n",
       "      <th>573</th>\n",
       "      <td>ff217f06-a074-411d-b969-8d8693ca3c82</td>\n",
       "      <td>15</td>\n",
       "      <td>1</td>\n",
       "      <td>1</td>\n",
       "    </tr>\n",
       "    <tr>\n",
       "      <th>574</th>\n",
       "      <td>ff2f77a1-d766-4ccb-bad2-6546d61ed4e8</td>\n",
       "      <td>55</td>\n",
       "      <td>14</td>\n",
       "      <td>6</td>\n",
       "    </tr>\n",
       "  </tbody>\n",
       "</table>\n",
       "<p>575 rows × 4 columns</p>\n",
       "</div>"
      ],
      "text/plain": [
       "                               usuario_id  total_accesses  \\\n",
       "0    0077e9df-39d3-41bc-aa57-3953e894bcf9              37   \n",
       "1    009a2ef8-ee98-4c4d-b53a-6407abc03715               2   \n",
       "2    0103a1d1-96c8-4d98-b263-0549294aff13               5   \n",
       "3    013e6d7a-4b86-47a3-972e-4c046dc4903b              97   \n",
       "4    021f43b9-c167-44b3-bc42-5420212df999               3   \n",
       "..                                    ...             ...   \n",
       "570  feb83ec6-80af-4e84-a3dd-78a6e94964ef              24   \n",
       "571  fed22165-9980-4358-a2cf-11c427109931               8   \n",
       "572  fef05bde-262a-4edf-bc6a-dc0ff74ac59e               6   \n",
       "573  ff217f06-a074-411d-b969-8d8693ca3c82              15   \n",
       "574  ff2f77a1-d766-4ccb-bad2-6546d61ed4e8              55   \n",
       "\n",
       "     total_clicks_imprimir  total_clicks_filtrar  \n",
       "0                       18                    55  \n",
       "1                        3                     0  \n",
       "2                        0                    14  \n",
       "3                       39                   110  \n",
       "4                        0                     0  \n",
       "..                     ...                   ...  \n",
       "570                      0                     0  \n",
       "571                      0                     0  \n",
       "572                     30                    22  \n",
       "573                      1                     1  \n",
       "574                     14                     6  \n",
       "\n",
       "[575 rows x 4 columns]"
      ]
     },
     "execution_count": 179,
     "metadata": {},
     "output_type": "execute_result"
    }
   ],
   "source": [
    "usage_patterns"
   ]
  },
  {
   "cell_type": "code",
   "execution_count": 180,
   "id": "1f032d6a-392c-476b-8dcf-f9798415546b",
   "metadata": {},
   "outputs": [
    {
     "data": {
      "text/plain": [
       "9676"
      ]
     },
     "execution_count": 180,
     "metadata": {},
     "output_type": "execute_result"
    }
   ],
   "source": [
    "usage_patterns['total_clicks_imprimir'].sum()"
   ]
  },
  {
   "cell_type": "code",
   "execution_count": 181,
   "id": "4ab77e58-e4b3-4dc7-b2c3-fd19d3cb9cb4",
   "metadata": {},
   "outputs": [
    {
     "data": {
      "text/plain": [
       "15945"
      ]
     },
     "execution_count": 181,
     "metadata": {},
     "output_type": "execute_result"
    }
   ],
   "source": [
    "usage_patterns['total_clicks_filtrar'].sum()"
   ]
  },
  {
   "cell_type": "markdown",
   "id": "e1fc8c81-b616-4e3b-b24d-b3da1884bd64",
   "metadata": {},
   "source": [
    "# 4 Análise de sazonalidade\n",
    "\n",
    "Objetivamos analisar se há sazonalidade nos dados, ou seja, se estes esboçam um padrão temporal que possa vir a ser interpretado mediante algum evento inerente ao conjunto de dados e ou disponibilidade destes.\n",
    "\n",
    "Para isto foi necessário tratarmos os dados do tipo \"data\" para a interpretação computacional adequada, e buscar por relação com a quantidade de cliques por meses. \n",
    "\n",
    "* Percebemos que há sazonalidade entre os dados totais de acesso às listas nominais, estes esboçam um padrão de repetição com picos nos meses de Abril e Agosto, bem como esboçam pontos máximos de queda em Fevereiro, Junho e Outubro, sempre com intervalo de quatro meses. \n",
    "\n",
    "* Os dados inerentes aos cliques totais esboçam padrões similares, tanto para cliques para imprimir quanto para cliques para filtragem. \n"
   ]
  },
  {
   "cell_type": "code",
   "execution_count": 182,
   "id": "24a1bc4d-4fbb-4c7e-8eb8-3c6b58c4bc6f",
   "metadata": {},
   "outputs": [],
   "source": [
    "merged_bases['data_ativo'] = pd.to_datetime(merged_bases['data_ativo'], errors='coerce')\n",
    "merged_bases['month'] = merged_bases['data_ativo'].dt.month"
   ]
  },
  {
   "cell_type": "markdown",
   "id": "f542f154-82c6-49b7-93cf-b8715926f626",
   "metadata": {},
   "source": [
    "**geração dos gráficos de sazonalidade**"
   ]
  },
  {
   "cell_type": "code",
   "execution_count": 183,
   "id": "40ec03ef-a79e-43f1-88a4-03e299bbce8c",
   "metadata": {},
   "outputs": [
    {
     "data": {
      "image/png": "[encoded data removed]",
      "text/plain": [
       "<Figure size 1200x600 with 3 Axes>"
      ]
     },
     "metadata": {},
     "output_type": "display_data"
    }
   ],
   "source": [
    "seasonal_engagement = merged_bases.groupby('month').agg(\n",
    "    total_accesses=('acessou_listas_nominais', 'sum'),\n",
    "    total_clicks_imprimir=('clicks_imprimir_lista', 'sum'),\n",
    "    total_clicks_filtrar=('clicks_filtrar_lista', 'sum')\n",
    ").reset_index() \n",
    "\n",
    "plt.figure(figsize=(12, 6))\n",
    "\n",
    "plt.subplot(3, 1, 1)\n",
    "plt.plot(seasonal_engagement['month'], seasonal_engagement['total_accesses'], marker='o')\n",
    "plt.title('Total de Acessos às Listas Nominais por Mês')\n",
    "plt.xlabel('Mês')\n",
    "plt.ylabel('Acessos')\n",
    "plt.grid(True)\n",
    "\n",
    "plt.subplot(3, 1, 2)\n",
    "plt.plot(seasonal_engagement['month'], seasonal_engagement['total_clicks_imprimir'], marker='o', color='orange')\n",
    "plt.title('Total de Cliques para Imprimir por Mês')\n",
    "plt.xlabel('Mês')\n",
    "plt.ylabel('Cliques Imprimir')\n",
    "plt.grid(True)\n",
    "\n",
    "plt.subplot(3, 1, 3)\n",
    "plt.plot(seasonal_engagement['month'], seasonal_engagement['total_clicks_filtrar'], marker='o', color='green')\n",
    "plt.title('Total de Cliques para Filtrar por Mês')\n",
    "plt.xlabel('Mês')\n",
    "plt.ylabel('Cliques Filtrar')\n",
    "plt.grid(True)\n",
    "\n",
    "plt.tight_layout()\n",
    "plt.show()\n"
   ]
  },
  {
   "cell_type": "markdown",
   "id": "d4950a96-487f-486f-b20c-920973117261",
   "metadata": {},
   "source": [
    "# 5 Padrões de uso por município"
   ]
  },
  {
   "cell_type": "markdown",
   "id": "8609e8e3-21c2-4efd-9f1f-7a9edd606e24",
   "metadata": {},
   "source": [
    "Esta análise nos permite criar uma avaliação da quantidade de cliques por municípios, ainda como métrica de padrões de uso. \n",
    "Assim como as demais análises realizadas, utilizamos agrupamento e agregação dos dados, bem como a obtenção da média de dias para o primeiro acesso às listas nominais. Isto envolveu a obtenção dos dias presentes nos nossos dados do tipo \"data\", através do atributo *dt.days* da biblioteca pandas. \n",
    "\n",
    "Ao final do processo, temos a tabulação dos dados ordenada das maiores quantidades de cliques para filtros e para impressão por município. \n",
    "\n",
    "Os cindo primeiros municípios em destaque são:\n",
    "\n",
    "* Minas Novas - MG \n",
    "* Inhambupe - BA\t\n",
    "* Paulo Ramos - MA\t\n",
    "* Afuá - PA\t\n",
    "* Palmeira das Missões - RS\n",
    "\n",
    "Os municípios com as menores quantidades de cliques por ferramenta são: \n",
    "\n",
    "* Alvorada de Minas - MG\t\n",
    "* Mazagão - AP\t\n",
    "* Jaguapitã - PR\t\n",
    "* Chaves - PA\t\n",
    "* Tamandaré - PE"
   ]
  },
  {
   "cell_type": "code",
   "execution_count": 67,
   "id": "47eb36a4-76d1-4667-9089-0f5d4507502c",
   "metadata": {},
   "outputs": [],
   "source": [
    "merged_bases['dias_para_primeiro_acesso'] = pd.to_datetime(merged_bases['data_ativo']) - pd.to_datetime(merged_bases['data_criacao_cadastro'])\n",
    "merged_bases['dias_para_primeiro_acesso'] = merged_bases['dias_para_primeiro_acesso'].dt.days\n",
    "merged_bases['municipio'] = merged_bases['municipio'].str.strip()\n",
    "use_patterns = merged_bases.groupby('municipio').agg({\n",
    "    'dias_para_primeiro_acesso': 'mean',\n",
    "    'clicks_imprimir_lista': 'sum',\n",
    "    'clicks_filtrar_lista': 'sum'\n",
    "}).reset_index()\n",
    "\n",
    "use_patterns.rename(columns={\n",
    "    'dias_para_primeiro_acesso': 'media_dias_primeiro_acesso',\n",
    "    'clicks_imprimir_lista': 'total_cliques_imprimir',\n",
    "    'clicks_filtrar_lista': 'total_cliques_filtrar'\n",
    "}, inplace=True)"
   ]
  },
  {
   "cell_type": "markdown",
   "id": "d08df986-6798-4130-a6ee-c045cf47a3d0",
   "metadata": {},
   "source": [
    "Aqui, buscamos obter a quantidade de usuários presentes nos cinco primeiros e cinco últimos municípios avaliados de acordo com a quantidade total de cliques para imprimir e para filtrar."
   ]
  },
  {
   "cell_type": "code",
   "execution_count": 124,
   "id": "6632fec8-60f7-466e-aae2-214e2f84a194",
   "metadata": {},
   "outputs": [],
   "source": [
    "top_five = use_patterns.sort_values(by=['total_cliques_imprimir','total_cliques_filtrar'], ascending=False).head()\n",
    "last_five = use_patterns.sort_values(by=['total_cliques_imprimir','total_cliques_filtrar'], ascending=False).tail()"
   ]
  },
  {
   "cell_type": "code",
   "execution_count": 125,
   "id": "0e44a871-bb78-4e99-9eab-590d5de5b531",
   "metadata": {},
   "outputs": [],
   "source": [
    "top_five_municipalities = top_five['municipio'].tolist()\n",
    "last_five_municipalities = last_five['municipio'].tolist()"
   ]
  },
  {
   "cell_type": "code",
   "execution_count": 126,
   "id": "b66442b1-9f07-4dd0-8742-be0faf8aa560",
   "metadata": {},
   "outputs": [],
   "source": [
    "users_per_municipality = merged_bases.groupby('municipio').agg({\n",
    "    'usuario_id': 'nunique',  \n",
    "    'clicks_imprimir_lista': 'sum',  \n",
    "    'clicks_filtrar_lista': 'sum' \n",
    "}).reset_index()\n",
    "\n",
    "users_per_municipality.rename(columns={\n",
    "    'usuario_id': 'numero_usuarios',\n",
    "    'clicks_imprimir_lista': 'total_cliques_imprimir',\n",
    "    'clicks_filtrar_lista': 'total_cliques_filtrar'\n",
    "}, inplace=True)"
   ]
  },
  {
   "cell_type": "markdown",
   "id": "447eb6b9-7801-4826-8cbb-3fdda9c20712",
   "metadata": {},
   "source": [
    "Obtivemos a tabulação destes dados e através destes analisaremos a quantidade todal de usuários para os cinco primeiros e cinco últimos municípios avaliados de acordo com a quantidade total de cliques."
   ]
  },
  {
   "cell_type": "code",
   "execution_count": 127,
   "id": "40b03109-2594-4ee2-b27c-672f038fd3b8",
   "metadata": {},
   "outputs": [
    {
     "data": {
      "text/html": [
       "<div>\n",
       "<style scoped>\n",
       "    .dataframe tbody tr th:only-of-type {\n",
       "        vertical-align: middle;\n",
       "    }\n",
       "\n",
       "    .dataframe tbody tr th {\n",
       "        vertical-align: top;\n",
       "    }\n",
       "\n",
       "    .dataframe thead th {\n",
       "        text-align: right;\n",
       "    }\n",
       "</style>\n",
       "<table border=\"1\" class=\"dataframe\">\n",
       "  <thead>\n",
       "    <tr style=\"text-align: right;\">\n",
       "      <th></th>\n",
       "      <th>municipio</th>\n",
       "      <th>numero_usuarios</th>\n",
       "      <th>total_cliques_imprimir</th>\n",
       "      <th>total_cliques_filtrar</th>\n",
       "    </tr>\n",
       "  </thead>\n",
       "  <tbody>\n",
       "    <tr>\n",
       "      <th>0</th>\n",
       "      <td>Afuá - PA</td>\n",
       "      <td>7</td>\n",
       "      <td>506</td>\n",
       "      <td>924</td>\n",
       "    </tr>\n",
       "    <tr>\n",
       "      <th>1</th>\n",
       "      <td>Alagoinha - PE</td>\n",
       "      <td>8</td>\n",
       "      <td>223</td>\n",
       "      <td>335</td>\n",
       "    </tr>\n",
       "    <tr>\n",
       "      <th>2</th>\n",
       "      <td>Altamira do Maranhão - MA</td>\n",
       "      <td>5</td>\n",
       "      <td>201</td>\n",
       "      <td>492</td>\n",
       "    </tr>\n",
       "    <tr>\n",
       "      <th>3</th>\n",
       "      <td>Alvinópolis - MG</td>\n",
       "      <td>8</td>\n",
       "      <td>37</td>\n",
       "      <td>7</td>\n",
       "    </tr>\n",
       "    <tr>\n",
       "      <th>4</th>\n",
       "      <td>Alvorada de Minas - MG</td>\n",
       "      <td>2</td>\n",
       "      <td>2</td>\n",
       "      <td>5</td>\n",
       "    </tr>\n",
       "    <tr>\n",
       "      <th>...</th>\n",
       "      <td>...</td>\n",
       "      <td>...</td>\n",
       "      <td>...</td>\n",
       "      <td>...</td>\n",
       "    </tr>\n",
       "    <tr>\n",
       "      <th>65</th>\n",
       "      <td>Tamandaré - PE</td>\n",
       "      <td>7</td>\n",
       "      <td>0</td>\n",
       "      <td>0</td>\n",
       "    </tr>\n",
       "    <tr>\n",
       "      <th>66</th>\n",
       "      <td>Tarrafas - CE</td>\n",
       "      <td>6</td>\n",
       "      <td>41</td>\n",
       "      <td>172</td>\n",
       "    </tr>\n",
       "    <tr>\n",
       "      <th>67</th>\n",
       "      <td>Três Marias - MG</td>\n",
       "      <td>14</td>\n",
       "      <td>234</td>\n",
       "      <td>334</td>\n",
       "    </tr>\n",
       "    <tr>\n",
       "      <th>68</th>\n",
       "      <td>Viana - MA</td>\n",
       "      <td>21</td>\n",
       "      <td>64</td>\n",
       "      <td>101</td>\n",
       "    </tr>\n",
       "    <tr>\n",
       "      <th>69</th>\n",
       "      <td>Vitorino Freire - MA</td>\n",
       "      <td>19</td>\n",
       "      <td>417</td>\n",
       "      <td>237</td>\n",
       "    </tr>\n",
       "  </tbody>\n",
       "</table>\n",
       "<p>70 rows × 4 columns</p>\n",
       "</div>"
      ],
      "text/plain": [
       "                    municipio  numero_usuarios  total_cliques_imprimir  \\\n",
       "0                   Afuá - PA                7                     506   \n",
       "1              Alagoinha - PE                8                     223   \n",
       "2   Altamira do Maranhão - MA                5                     201   \n",
       "3            Alvinópolis - MG                8                      37   \n",
       "4      Alvorada de Minas - MG                2                       2   \n",
       "..                        ...              ...                     ...   \n",
       "65             Tamandaré - PE                7                       0   \n",
       "66              Tarrafas - CE                6                      41   \n",
       "67           Três Marias - MG               14                     234   \n",
       "68                 Viana - MA               21                      64   \n",
       "69       Vitorino Freire - MA               19                     417   \n",
       "\n",
       "    total_cliques_filtrar  \n",
       "0                     924  \n",
       "1                     335  \n",
       "2                     492  \n",
       "3                       7  \n",
       "4                       5  \n",
       "..                    ...  \n",
       "65                      0  \n",
       "66                    172  \n",
       "67                    334  \n",
       "68                    101  \n",
       "69                    237  \n",
       "\n",
       "[70 rows x 4 columns]"
      ]
     },
     "execution_count": 127,
     "metadata": {},
     "output_type": "execute_result"
    }
   ],
   "source": [
    "users_per_municipality"
   ]
  },
  {
   "cell_type": "markdown",
   "id": "bc0dd448-fd5b-4c01-96ba-389847189426",
   "metadata": {},
   "source": [
    "Criamos uma função que retorna a quantidade de usuários no município alvo da busca."
   ]
  },
  {
   "cell_type": "code",
   "execution_count": 128,
   "id": "e9e747a4-0cb9-4564-8172-2a0482d84c04",
   "metadata": {},
   "outputs": [],
   "source": [
    "def count_per_municipality(dataframe, mnecessáriounicipality):\n",
    "    muncipality_users = dataframe[dataframe['municipio'] == municipality]['numero_usuarios']\n",
    "    return muncipality_users"
   ]
  },
  {
   "cell_type": "markdown",
   "id": "457f2432-98e1-4c31-96d1-6d743cca9827",
   "metadata": {},
   "source": [
    "Através da aplicação de um loop com o uso da função previamente criada, podemos avaliar a quantidade de usuários por município. Deste forma temos: \n",
    "\n",
    "\n",
    "* Minas Novas - MG            16 usuários\n",
    "* Inhambupe - BA              15 usuários\n",
    "* Paulo Ramos - MA            10 usuários\n",
    "* Afuá - PA                    7 usuários\n",
    "* Palmeira das Missões - RS   14 usuários\n"
   ]
  },
  {
   "cell_type": "code",
   "execution_count": 129,
   "id": "58375666-5ef6-482d-b38f-4c40de1fed5e",
   "metadata": {},
   "outputs": [
    {
     "name": "stdout",
     "output_type": "stream",
     "text": [
      "Minas Novas - MG 43    16\n",
      "Name: numero_usuarios, dtype: int64\n",
      "Inhambupe - BA 29    15\n",
      "Name: numero_usuarios, dtype: int64\n",
      "Paulo Ramos - MA 53    10\n",
      "Name: numero_usuarios, dtype: int64\n",
      "Afuá - PA 0    7\n",
      "Name: numero_usuarios, dtype: int64\n",
      "Palmeira das Missões - RS 51    14\n",
      "Name: numero_usuarios, dtype: int64\n"
     ]
    }
   ],
   "source": [
    "for municipality in top_five_municipalities: \n",
    "    print(municipality, count_per_municipality(usuarios_por_municipio, municipality))"
   ]
  },
  {
   "cell_type": "code",
   "execution_count": 130,
   "id": "b0ca5002-070c-4682-a28f-a8082784f795",
   "metadata": {},
   "outputs": [
    {
     "name": "stdout",
     "output_type": "stream",
     "text": [
      "Alvorada de Minas - MG 4    2\n",
      "Name: numero_usuarios, dtype: int64\n",
      "Mazagão - AP 42    10\n",
      "Name: numero_usuarios, dtype: int64\n",
      "Jaguapitã - PR 32    3\n",
      "Name: numero_usuarios, dtype: int64\n",
      "Chaves - PA 19    2\n",
      "Name: numero_usuarios, dtype: int64\n",
      "Tamandaré - PE 65    7\n",
      "Name: numero_usuarios, dtype: int64\n"
     ]
    }
   ],
   "source": [
    "for municipality in last_five_municipalities: \n",
    "    print(municipality, count_per_municipality(usuarios_por_municipio, municipality))"
   ]
  },
  {
   "cell_type": "markdown",
   "id": "23022411-5204-450f-ad68-de8067e3e868",
   "metadata": {},
   "source": [
    "# Regressão linear  \n",
    "\n",
    "\n",
    "Agora que possuímos a quantidade de usuários por município bem como a quantiade total de cliques para filtros e impressões, podemos estabelecer um modelo de regressão linear de Pearson para compreender se há correlação entre a quantidade de usuários e cliques.  \n",
    "Para a análise de regressão, utilizamos a biblioteca scikit-learn no python, a qual nos permite realizar a análise passando como parâmetros necessários as variáveis preditora (número de usuários por município) e resposta (totais de cliques para impressão ou filtro).\n",
    "\n",
    "\n",
    "Os resultados para o regressão linear de Pearson indicam que há correlação fraca entre os dados de número de usuários por município e total de cliques para imprimir: \n",
    "\n",
    "* **r = 0.3857**\n",
    "\n",
    "E também há correlação fraca entre o número de usuários e o total de cliques para filtrar: \n",
    "\n",
    "* **r = 0.319** \n",
    "\n",
    "\n",
    "Estes resultados apontam que outros fatores que não somente os quantitativos podem estar assocaidos ao maior engajamento, como por exemplo, as classes de usuários, previamente exploradas neste documentos, bem como ao estímulo e ações externas de compreensão do uso e finalidade da plataforma. "
   ]
  },
  {
   "cell_type": "code",
   "execution_count": 185,
   "id": "2af352bd-efd2-47e7-afbf-bee71f7fca45",
   "metadata": {},
   "outputs": [
    {
     "data": {
      "image/png": "[encoded data removed]",
      "text/plain": [
       "<Figure size 1000x600 with 1 Axes>"
      ]
     },
     "metadata": {},
     "output_type": "display_data"
    }
   ],
   "source": [
    "X = users_per_municipality['numero_usuarios'].values.reshape(-1, 1)  \n",
    "Y = users_per_municipality['total_cliques_imprimir'].values \n",
    "\n",
    "model = LinearRegression()\n",
    "model.fit(X, Y)\n",
    "y_pred = model.predict(X)\n",
    "\n",
    "\n",
    "\n",
    "plt.figure(figsize=(10, 6))\n",
    "sns.scatterplot(x='numero_usuarios', y='total_cliques_imprimir', data=users_per_municipality, label=\"Dados reais\")\n",
    "plt.plot(users_per_municipality['numero_usuarios'], y_pred, color='red', label=\"Linha de Regressão\")\n",
    "plt.xlabel(\"Quantidade de Usuários\")\n",
    "plt.ylabel(\"Total de Cliques para Imprimir\")\n",
    "plt.title(\"Regressão Linear: Cliques para Imprimir vs. Quantidade de Usuários\")\n",
    "plt.legend()\n",
    "plt.show()"
   ]
  },
  {
   "cell_type": "code",
   "execution_count": 186,
   "id": "56873bb8-23cb-46df-b858-08741822c42f",
   "metadata": {},
   "outputs": [
    {
     "name": "stdout",
     "output_type": "stream",
     "text": [
      "Coeficiente de correlação de Pearson: 0.38575635247358253\n"
     ]
    }
   ],
   "source": [
    "correlation = users_per_municipality['numero_usuarios'].corr(users_per_municipality['total_cliques_imprimir'])\n",
    "print(f\"Coeficiente de correlação de Pearson: {correlation}\")"
   ]
  },
  {
   "cell_type": "code",
   "execution_count": 187,
   "id": "372b8ae6-2ebc-4d2a-8f7e-19316503f719",
   "metadata": {},
   "outputs": [
    {
     "data": {
      "image/png": "[encoded data removed]",
      "text/plain": [
       "<Figure size 1000x600 with 1 Axes>"
      ]
     },
     "metadata": {},
     "output_type": "display_data"
    }
   ],
   "source": [
    "X = users_per_municipality['numero_usuarios'].values.reshape(-1, 1)  \n",
    "Y = users_per_municipality['total_cliques_filtrar'].values \n",
    "\n",
    "model = LinearRegression()\n",
    "model.fit(X, Y)\n",
    "y_pred = model.predict(X)\n",
    "\n",
    "\n",
    "\n",
    "plt.figure(figsize=(10, 6))\n",
    "sns.scatterplot(x='numero_usuarios', y='total_cliques_filtrar', data=users_per_municipality, label=\"Dados reais\")\n",
    "plt.plot(users_per_municipality['numero_usuarios'], y_pred, color='red', label=\"Linha de Regressão\")\n",
    "plt.xlabel(\"Quantidade de Usuários\")\n",
    "plt.ylabel(\"Total de Cliques para Filtrar\")\n",
    "plt.title(\"Regressão Linear: Cliques para Filtrar vs. Quantidade de Usuários\")\n",
    "plt.legend()\n",
    "plt.show()"
   ]
  },
  {
   "cell_type": "code",
   "execution_count": 188,
   "id": "a25ccf36-a793-4da9-a154-4ff76d961c47",
   "metadata": {},
   "outputs": [
    {
     "name": "stdout",
     "output_type": "stream",
     "text": [
      "Coeficiente de correlação de Pearson: 0.3196243367489144\n"
     ]
    }
   ],
   "source": [
    "correlation = users_per_municipality['numero_usuarios'].corr(users_per_municipality['total_cliques_filtrar'])\n",
    "print(f\"Coeficiente de correlação de Pearson: {correlation}\")"
   ]
  }
 ],
 "metadata": {
  "kernelspec": {
   "display_name": "Python 3 (ipykernel)",
   "language": "python",
   "name": "python3"
  },
  "language_info": {
   "codemirror_mode": {
    "name": "ipython",
    "version": 3
   },
   "file_extension": ".py",
   "mimetype": "text/x-python",
   "name": "python",
   "nbconvert_exporter": "python",
   "pygments_lexer": "ipython3",
   "version": "3.12.3"
  }
 },
 "nbformat": 4,
 "nbformat_minor": 5
}
